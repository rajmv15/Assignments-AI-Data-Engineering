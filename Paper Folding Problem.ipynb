{
 "cells": [
  {
   "cell_type": "markdown",
   "id": "d96dcad0-ef47-4c2d-853a-af28a0bea5b3",
   "metadata": {},
   "source": [
    "# **Problem 1**\n",
    "### Implementation using the power arithmetic operator"
   ]
  },
  {
   "cell_type": "code",
   "execution_count": 5,
   "id": "7ca24faf-eabe-4aa8-82b3-63496e4acdfd",
   "metadata": {},
   "outputs": [
    {
     "name": "stdout",
     "output_type": "stream",
     "text": [
      "Thickness: 703687441.77664 meters\n"
     ]
    }
   ],
   "source": [
    "THICKNESS = 0.00008\n",
    "\n",
    "folded_thickness = THICKNESS * 2 **43\n",
    "\n",
    "print(\"Thickness: {} meters\".format(folded_thickness))"
   ]
  },
  {
   "cell_type": "markdown",
   "id": "f1c8016e-2901-421e-a116-bc59077b4e4b",
   "metadata": {},
   "source": [
    "# **Problem 2**\n",
    "### Unit conversion"
   ]
  },
  {
   "cell_type": "code",
   "execution_count": 2,
   "id": "f4c1bc94-2be0-47e7-a395-642210c72d6b",
   "metadata": {},
   "outputs": [
    {
     "name": "stdout",
     "output_type": "stream",
     "text": [
      "Thickness:  70368.740,000 kilometers)\n"
     ]
    }
   ],
   "source": [
    "print(\"Thickness: {: .2f}0,000 kilometers)\".format(folded_thickness / 10000))"
   ]
  },
  {
   "cell_type": "markdown",
   "id": "f337b12e-e009-4a7a-9736-2bfcbd6b7bc9",
   "metadata": {},
   "source": [
    "# **Problem 3**\n",
    "###  Created using a for statement"
   ]
  },
  {
   "cell_type": "code",
   "execution_count": 2,
   "id": "7820fb51-c53d-4141-b5ff-1c8f31e24b37",
   "metadata": {},
   "outputs": [
    {
     "name": "stdout",
     "output_type": "stream",
     "text": [
      "Thickness : 703687441.77664 meters\n"
     ]
    }
   ],
   "source": [
    "THICKNESS = 0.00008\n",
    "folded_times = 43\n",
    "\n",
    "folded_thickness = THICKNESS\n",
    "for i in range(folded_times):\n",
    "    folded_thickness = folded_thickness * 2\n",
    "print (\"Thickness : {} meters\".format(folded_thickness))"
   ]
  },
  {
   "cell_type": "markdown",
   "id": "0e71c3a8-8e6b-40d2-84c7-5d7848157fd3",
   "metadata": {},
   "source": [
    "# **Problem 4**\n",
    "###  Created using a for statement"
   ]
  },
  {
   "cell_type": "code",
   "execution_count": 18,
   "id": "83b341e1-3b0c-4570-ac43-7da8a5f9f6b3",
   "metadata": {},
   "outputs": [
    {
     "name": "stdout",
     "output_type": "stream",
     "text": [
      "Thickness : 703687441.77664 meters\n",
      "time : 0.001001596450805664[s]\n"
     ]
    }
   ],
   "source": [
    "import time\n",
    "start = time.time()\n",
    "\n",
    "THICKNESS = 0.00008\n",
    "folded_times = 43\n",
    "\n",
    "folded_thickness = THICKNESS\n",
    "for i in range(folded_times):\n",
    "    folded_thickness = folded_thickness * 2\n",
    "print (\"Thickness : {} meters\".format(folded_thickness))\n",
    "time.time()\n",
    "elapsed_time = time.time() - start\n",
    "print(\"time : {}[s]\".format(elapsed_time))"
   ]
  },
  {
   "cell_type": "markdown",
   "id": "59042ce5-2aa9-4376-8ace-9aa6f8773c3f",
   "metadata": {},
   "source": [
    "# **Problem 5**\n",
    "###  Save to list"
   ]
  },
  {
   "cell_type": "code",
   "execution_count": 15,
   "id": "01d1e358-3767-4b68-9e85-e11bea73ff19",
   "metadata": {},
   "outputs": [
    {
     "name": "stdout",
     "output_type": "stream",
     "text": [
      "44\n",
      "[8e-05, 0.00016, 0.00032, 0.00064, 0.00128, 0.00256, 0.00512, 0.01024, 0.02048, 0.04096, 0.08192, 0.16384, 0.32768, 0.65536, 1.31072, 2.62144, 5.24288, 10.48576, 20.97152, 41.94304, 83.88608, 167.77216, 335.54432, 671.08864, 1342.17728, 2684.35456, 5368.70912, 10737.41824, 21474.83648, 42949.67296, 85899.34592, 171798.69184, 343597.38368, 687194.76736, 1374389.53472, 2748779.06944, 5497558.13888, 10995116.27776, 21990232.55552, 43980465.11104, 87960930.22208, 175921860.44416, 351843720.88832, 703687441.77664]\n"
     ]
    }
   ],
   "source": [
    "THICKNESS = 0.00008\n",
    "folded_times = 43\n",
    "\n",
    "folded_thickness = [THICKNESS]\n",
    "\n",
    "for i in range(folded_times):\n",
    "    folded_thickness.append(folded_thickness[-1] * 2) \n",
    "\n",
    "print(len(folded_thickness)) \n",
    "print(folded_thickness)  "
   ]
  },
  {
   "cell_type": "markdown",
   "id": "93ffd02c-caa3-48e9-bf26-843374e48412",
   "metadata": {},
   "source": [
    "# **Problem 6**\n",
    "###  "
   ]
  },
  {
   "cell_type": "code",
   "execution_count": null,
   "id": "ec89b32b-0fc7-47b6-a3e6-35b104296041",
   "metadata": {},
   "outputs": [],
   "source": []
  }
 ],
 "metadata": {
  "kernelspec": {
   "display_name": "Python 3 (ipykernel)",
   "language": "python",
   "name": "python3"
  },
  "language_info": {
   "codemirror_mode": {
    "name": "ipython",
    "version": 3
   },
   "file_extension": ".py",
   "mimetype": "text/x-python",
   "name": "python",
   "nbconvert_exporter": "python",
   "pygments_lexer": "ipython3",
   "version": "3.8.10"
  }
 },
 "nbformat": 4,
 "nbformat_minor": 5
}
