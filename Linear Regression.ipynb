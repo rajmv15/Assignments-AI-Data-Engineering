{
 "cells": [
  {
   "cell_type": "code",
   "execution_count": 87,
   "id": "56384d55-6fe4-4b12-b88b-81b52485d2d1",
   "metadata": {},
   "outputs": [],
   "source": [
    "import numpy as np\n",
    "import pandas as pd"
   ]
  },
  {
   "cell_type": "code",
   "execution_count": 195,
   "id": "3393dfef-d228-4334-94c2-57dfd7907821",
   "metadata": {},
   "outputs": [],
   "source": [
    "class ScratchLinearRegression:\n",
    "    def __init__(self, num_iter=1000, lr=0.5 , no_bias=False, verbose=False):\n",
    "        self.iter = num_iter\n",
    "        self.lr = lr\n",
    "        self.no_bias = no_bias\n",
    "        self.verbose = verbose\n",
    "\n",
    "\n",
    "    \n",
    "    def fit(self, X, y, X_val=None, y_val=None):\n",
    "        n_samples = X.shape[0]\n",
    "        n_features = X.shape[1]\n",
    "        \n",
    "        if not self.no_bias:\n",
    "            X = np.c_[np.ones(n_samples), X]\n",
    "        \n",
    "        # Fix: initialize correct weight size\n",
    "        self.weight = np.random.rand(X.shape[1])\n",
    "        self.loss = np.zeros(self.iter)\n",
    "        self.val_loss = np.zeros(self.iter)\n",
    "\n",
    "        for i in range(self.iter):\n",
    "            y_hyp = self._linear_hypothesis(X)\n",
    "            self.weight = self._gradient_descent(X, y, y_hyp)\n",
    "            self.loss[i] = self._loss_function(y_hyp, y)\n",
    "            \n",
    "            if X_val is not None and y_val is not None:\n",
    "                y_predict = self.predict(X_val)\n",
    "                self.val_loss[i] = self._loss_function(y_predict, y_val)\n",
    "        \n",
    "        if self.verbose:\n",
    "            print(\"Final training loss:\", self.loss[-1])\n",
    "        return self\n",
    "\n",
    "\n",
    "    \n",
    "    def predict(self, X):\n",
    "        if not self.no_bias:\n",
    "            X = np.c_[np.ones(X.shape[0]), X]\n",
    "        return X.dot(self.weight)\n",
    "\n",
    "\n",
    "    \n",
    "    def _linear_hypothesis(self, X):\n",
    "        return np.dot(X, self.weight.T)\n",
    "\n",
    "\n",
    "    \n",
    "    def _gradient_descent(self, X, y, y_hyp):\n",
    "        n_samples = X.shape[0]\n",
    "        return self.weight - (self.lr * np.dot((y_hyp - y), X) / n_samples)\n",
    "\n",
    "\n",
    "    \n",
    "    def _loss_function(self, y_pred, y):\n",
    "        return np.mean((y_pred - y) ** 2)\n"
   ]
  },
  {
   "cell_type": "code",
   "execution_count": 196,
   "id": "1bdee372-5723-4c7e-9bc2-b739aed76262",
   "metadata": {},
   "outputs": [
    {
     "data": {
      "text/plain": [
       "(5, 2)"
      ]
     },
     "execution_count": 196,
     "metadata": {},
     "output_type": "execute_result"
    }
   ],
   "source": [
    "X = np.array([\n",
    "    [1, 2],\n",
    "    [3, 4],\n",
    "    [5, 6],\n",
    "    [7, 8],\n",
    "    [9, 10]\n",
    "])\n",
    "X.shape"
   ]
  },
  {
   "cell_type": "code",
   "execution_count": 197,
   "id": "0acb27dd-d7f5-4d1e-9ea7-acb8565b39d5",
   "metadata": {},
   "outputs": [
    {
     "data": {
      "text/plain": [
       "(5,)"
      ]
     },
     "execution_count": 197,
     "metadata": {},
     "output_type": "execute_result"
    }
   ],
   "source": [
    "y = np.array([4, 10, 16, 22, 28])\n",
    "y.shape"
   ]
  },
  {
   "cell_type": "code",
   "execution_count": 198,
   "id": "acf18f26-f0fc-47b6-ad6e-688dc8b5cd43",
   "metadata": {},
   "outputs": [],
   "source": [
    "slr = ScratchLinearRegression(100, 0.01, False, True)"
   ]
  },
  {
   "cell_type": "code",
   "execution_count": 199,
   "id": "63d20a7f-7a11-4942-8dbf-75d38d349221",
   "metadata": {},
   "outputs": [
    {
     "name": "stdout",
     "output_type": "stream",
     "text": [
      "Final training loss: 0.07990201690282886\n"
     ]
    }
   ],
   "source": [
    "weight = slr.fit(X, y)"
   ]
  },
  {
   "cell_type": "code",
   "execution_count": 200,
   "id": "883aab79-e34b-4f86-8973-97cc6a25832a",
   "metadata": {},
   "outputs": [
    {
     "data": {
      "text/plain": [
       "array([ 4.48272271, 10.30480838, 16.12689404, 21.9489797 , 27.77106536])"
      ]
     },
     "execution_count": 200,
     "metadata": {},
     "output_type": "execute_result"
    }
   ],
   "source": [
    "slr_predict = slr.predict(X)\n",
    "slr_predict"
   ]
  },
  {
   "cell_type": "code",
   "execution_count": 201,
   "id": "1dc5fdbb-5305-4ada-9719-d986213b4ac4",
   "metadata": {},
   "outputs": [
    {
     "data": {
      "text/plain": [
       "0.041006095200897055"
      ]
     },
     "execution_count": 201,
     "metadata": {},
     "output_type": "execute_result"
    }
   ],
   "source": [
    "MSE(y, slr_predict)"
   ]
  },
  {
   "cell_type": "markdown",
   "id": "8a7ac2d0-b001-41fd-84ad-e0aa994d971f",
   "metadata": {},
   "source": [
    "# Problem 6: Verification"
   ]
  },
  {
   "cell_type": "code",
   "execution_count": 25,
   "id": "d43c2f39-b84e-467d-8229-64b052e2655c",
   "metadata": {},
   "outputs": [
    {
     "data": {
      "text/html": [
       "<div>\n",
       "<style scoped>\n",
       "    .dataframe tbody tr th:only-of-type {\n",
       "        vertical-align: middle;\n",
       "    }\n",
       "\n",
       "    .dataframe tbody tr th {\n",
       "        vertical-align: top;\n",
       "    }\n",
       "\n",
       "    .dataframe thead th {\n",
       "        text-align: right;\n",
       "    }\n",
       "</style>\n",
       "<table border=\"1\" class=\"dataframe\">\n",
       "  <thead>\n",
       "    <tr style=\"text-align: right;\">\n",
       "      <th></th>\n",
       "      <th>Id</th>\n",
       "      <th>MSSubClass</th>\n",
       "      <th>MSZoning</th>\n",
       "      <th>LotFrontage</th>\n",
       "      <th>LotArea</th>\n",
       "      <th>Street</th>\n",
       "      <th>Alley</th>\n",
       "      <th>LotShape</th>\n",
       "      <th>LandContour</th>\n",
       "      <th>Utilities</th>\n",
       "      <th>...</th>\n",
       "      <th>PoolArea</th>\n",
       "      <th>PoolQC</th>\n",
       "      <th>Fence</th>\n",
       "      <th>MiscFeature</th>\n",
       "      <th>MiscVal</th>\n",
       "      <th>MoSold</th>\n",
       "      <th>YrSold</th>\n",
       "      <th>SaleType</th>\n",
       "      <th>SaleCondition</th>\n",
       "      <th>SalePrice</th>\n",
       "    </tr>\n",
       "  </thead>\n",
       "  <tbody>\n",
       "    <tr>\n",
       "      <th>0</th>\n",
       "      <td>1</td>\n",
       "      <td>60</td>\n",
       "      <td>RL</td>\n",
       "      <td>65.0</td>\n",
       "      <td>8450</td>\n",
       "      <td>Pave</td>\n",
       "      <td>NaN</td>\n",
       "      <td>Reg</td>\n",
       "      <td>Lvl</td>\n",
       "      <td>AllPub</td>\n",
       "      <td>...</td>\n",
       "      <td>0</td>\n",
       "      <td>NaN</td>\n",
       "      <td>NaN</td>\n",
       "      <td>NaN</td>\n",
       "      <td>0</td>\n",
       "      <td>2</td>\n",
       "      <td>2008</td>\n",
       "      <td>WD</td>\n",
       "      <td>Normal</td>\n",
       "      <td>208500</td>\n",
       "    </tr>\n",
       "    <tr>\n",
       "      <th>1</th>\n",
       "      <td>2</td>\n",
       "      <td>20</td>\n",
       "      <td>RL</td>\n",
       "      <td>80.0</td>\n",
       "      <td>9600</td>\n",
       "      <td>Pave</td>\n",
       "      <td>NaN</td>\n",
       "      <td>Reg</td>\n",
       "      <td>Lvl</td>\n",
       "      <td>AllPub</td>\n",
       "      <td>...</td>\n",
       "      <td>0</td>\n",
       "      <td>NaN</td>\n",
       "      <td>NaN</td>\n",
       "      <td>NaN</td>\n",
       "      <td>0</td>\n",
       "      <td>5</td>\n",
       "      <td>2007</td>\n",
       "      <td>WD</td>\n",
       "      <td>Normal</td>\n",
       "      <td>181500</td>\n",
       "    </tr>\n",
       "    <tr>\n",
       "      <th>2</th>\n",
       "      <td>3</td>\n",
       "      <td>60</td>\n",
       "      <td>RL</td>\n",
       "      <td>68.0</td>\n",
       "      <td>11250</td>\n",
       "      <td>Pave</td>\n",
       "      <td>NaN</td>\n",
       "      <td>IR1</td>\n",
       "      <td>Lvl</td>\n",
       "      <td>AllPub</td>\n",
       "      <td>...</td>\n",
       "      <td>0</td>\n",
       "      <td>NaN</td>\n",
       "      <td>NaN</td>\n",
       "      <td>NaN</td>\n",
       "      <td>0</td>\n",
       "      <td>9</td>\n",
       "      <td>2008</td>\n",
       "      <td>WD</td>\n",
       "      <td>Normal</td>\n",
       "      <td>223500</td>\n",
       "    </tr>\n",
       "    <tr>\n",
       "      <th>3</th>\n",
       "      <td>4</td>\n",
       "      <td>70</td>\n",
       "      <td>RL</td>\n",
       "      <td>60.0</td>\n",
       "      <td>9550</td>\n",
       "      <td>Pave</td>\n",
       "      <td>NaN</td>\n",
       "      <td>IR1</td>\n",
       "      <td>Lvl</td>\n",
       "      <td>AllPub</td>\n",
       "      <td>...</td>\n",
       "      <td>0</td>\n",
       "      <td>NaN</td>\n",
       "      <td>NaN</td>\n",
       "      <td>NaN</td>\n",
       "      <td>0</td>\n",
       "      <td>2</td>\n",
       "      <td>2006</td>\n",
       "      <td>WD</td>\n",
       "      <td>Abnorml</td>\n",
       "      <td>140000</td>\n",
       "    </tr>\n",
       "    <tr>\n",
       "      <th>4</th>\n",
       "      <td>5</td>\n",
       "      <td>60</td>\n",
       "      <td>RL</td>\n",
       "      <td>84.0</td>\n",
       "      <td>14260</td>\n",
       "      <td>Pave</td>\n",
       "      <td>NaN</td>\n",
       "      <td>IR1</td>\n",
       "      <td>Lvl</td>\n",
       "      <td>AllPub</td>\n",
       "      <td>...</td>\n",
       "      <td>0</td>\n",
       "      <td>NaN</td>\n",
       "      <td>NaN</td>\n",
       "      <td>NaN</td>\n",
       "      <td>0</td>\n",
       "      <td>12</td>\n",
       "      <td>2008</td>\n",
       "      <td>WD</td>\n",
       "      <td>Normal</td>\n",
       "      <td>250000</td>\n",
       "    </tr>\n",
       "  </tbody>\n",
       "</table>\n",
       "<p>5 rows × 81 columns</p>\n",
       "</div>"
      ],
      "text/plain": [
       "   Id  MSSubClass MSZoning  LotFrontage  LotArea Street Alley LotShape  \\\n",
       "0   1          60       RL         65.0     8450   Pave   NaN      Reg   \n",
       "1   2          20       RL         80.0     9600   Pave   NaN      Reg   \n",
       "2   3          60       RL         68.0    11250   Pave   NaN      IR1   \n",
       "3   4          70       RL         60.0     9550   Pave   NaN      IR1   \n",
       "4   5          60       RL         84.0    14260   Pave   NaN      IR1   \n",
       "\n",
       "  LandContour Utilities  ... PoolArea PoolQC Fence MiscFeature MiscVal MoSold  \\\n",
       "0         Lvl    AllPub  ...        0    NaN   NaN         NaN       0      2   \n",
       "1         Lvl    AllPub  ...        0    NaN   NaN         NaN       0      5   \n",
       "2         Lvl    AllPub  ...        0    NaN   NaN         NaN       0      9   \n",
       "3         Lvl    AllPub  ...        0    NaN   NaN         NaN       0      2   \n",
       "4         Lvl    AllPub  ...        0    NaN   NaN         NaN       0     12   \n",
       "\n",
       "  YrSold  SaleType  SaleCondition  SalePrice  \n",
       "0   2008        WD         Normal     208500  \n",
       "1   2007        WD         Normal     181500  \n",
       "2   2008        WD         Normal     223500  \n",
       "3   2006        WD        Abnorml     140000  \n",
       "4   2008        WD         Normal     250000  \n",
       "\n",
       "[5 rows x 81 columns]"
      ]
     },
     "execution_count": 25,
     "metadata": {},
     "output_type": "execute_result"
    }
   ],
   "source": [
    "df = pd.read_csv('Data/house price data/train.csv')\n",
    "df.head()"
   ]
  },
  {
   "cell_type": "code",
   "execution_count": 176,
   "id": "6dad80a9-9e38-4976-b865-0909ea99a308",
   "metadata": {},
   "outputs": [],
   "source": [
    "X = df[['GrLivArea']].values\n",
    "y = df['SalePrice'].values"
   ]
  },
  {
   "cell_type": "code",
   "execution_count": 177,
   "id": "825020dc-1d6e-4800-a66d-a136f55546d3",
   "metadata": {},
   "outputs": [
    {
     "name": "stdout",
     "output_type": "stream",
     "text": [
      "(1095, 1) (365, 1) (1095,) (365,)\n"
     ]
    }
   ],
   "source": [
    "from sklearn.model_selection import train_test_split\n",
    "X_train, X_test, y_train, y_test = train_test_split(X, y,test_size=0.25)\n",
    "print(X_train.shape, X_test.shape, y_train.shape, y_test.shape)"
   ]
  },
  {
   "cell_type": "code",
   "execution_count": 202,
   "id": "7fc2b343-1043-4fb9-a1db-0009575b7212",
   "metadata": {},
   "outputs": [],
   "source": [
    "from sklearn.preprocessing import StandardScaler\n",
    "\n",
    "scaler = StandardScaler()\n",
    "scaler.fit(X_train)\n",
    "\n",
    "X_train_scaled = scaler.transform(X_train)\n",
    "X_test_scaled = scaler.transform(X_test)"
   ]
  },
  {
   "cell_type": "code",
   "execution_count": 222,
   "id": "d855aa37-e2a2-4169-904b-f6891c7b774e",
   "metadata": {},
   "outputs": [
    {
     "data": {
      "text/html": [
       "<div>\n",
       "<style scoped>\n",
       "    .dataframe tbody tr th:only-of-type {\n",
       "        vertical-align: middle;\n",
       "    }\n",
       "\n",
       "    .dataframe tbody tr th {\n",
       "        vertical-align: top;\n",
       "    }\n",
       "\n",
       "    .dataframe thead th {\n",
       "        text-align: right;\n",
       "    }\n",
       "</style>\n",
       "<table border=\"1\" class=\"dataframe\">\n",
       "  <thead>\n",
       "    <tr style=\"text-align: right;\">\n",
       "      <th></th>\n",
       "      <th>0</th>\n",
       "      <th>1</th>\n",
       "      <th>2</th>\n",
       "      <th>3</th>\n",
       "      <th>4</th>\n",
       "      <th>5</th>\n",
       "      <th>6</th>\n",
       "      <th>7</th>\n",
       "      <th>8</th>\n",
       "      <th>9</th>\n",
       "      <th>...</th>\n",
       "      <th>355</th>\n",
       "      <th>356</th>\n",
       "      <th>357</th>\n",
       "      <th>358</th>\n",
       "      <th>359</th>\n",
       "      <th>360</th>\n",
       "      <th>361</th>\n",
       "      <th>362</th>\n",
       "      <th>363</th>\n",
       "      <th>364</th>\n",
       "    </tr>\n",
       "  </thead>\n",
       "  <tbody>\n",
       "    <tr>\n",
       "      <th>Prediction</th>\n",
       "      <td>165851.089786</td>\n",
       "      <td>150846.479039</td>\n",
       "      <td>218903.106353</td>\n",
       "      <td>152989.99486</td>\n",
       "      <td>116764.577487</td>\n",
       "      <td>139700.196771</td>\n",
       "      <td>193716.795457</td>\n",
       "      <td>205506.132472</td>\n",
       "      <td>137235.153577</td>\n",
       "      <td>177426.075219</td>\n",
       "      <td>...</td>\n",
       "      <td>124909.937607</td>\n",
       "      <td>178069.129965</td>\n",
       "      <td>114728.237457</td>\n",
       "      <td>149881.89692</td>\n",
       "      <td>211400.80098</td>\n",
       "      <td>124588.410233</td>\n",
       "      <td>139914.548353</td>\n",
       "      <td>168530.484562</td>\n",
       "      <td>160706.651816</td>\n",
       "      <td>122444.894413</td>\n",
       "    </tr>\n",
       "    <tr>\n",
       "      <th>Actual value</th>\n",
       "      <td>202500.000000</td>\n",
       "      <td>121600.000000</td>\n",
       "      <td>235000.000000</td>\n",
       "      <td>116000.00000</td>\n",
       "      <td>144000.000000</td>\n",
       "      <td>160000.000000</td>\n",
       "      <td>213000.000000</td>\n",
       "      <td>219500.000000</td>\n",
       "      <td>110500.000000</td>\n",
       "      <td>157500.000000</td>\n",
       "      <td>...</td>\n",
       "      <td>119000.000000</td>\n",
       "      <td>265900.000000</td>\n",
       "      <td>135000.000000</td>\n",
       "      <td>185000.00000</td>\n",
       "      <td>230000.00000</td>\n",
       "      <td>149900.000000</td>\n",
       "      <td>118000.000000</td>\n",
       "      <td>162000.000000</td>\n",
       "      <td>147000.000000</td>\n",
       "      <td>119900.000000</td>\n",
       "    </tr>\n",
       "  </tbody>\n",
       "</table>\n",
       "<p>2 rows × 365 columns</p>\n",
       "</div>"
      ],
      "text/plain": [
       "                        0              1              2             3    \\\n",
       "Prediction    165851.089786  150846.479039  218903.106353  152989.99486   \n",
       "Actual value  202500.000000  121600.000000  235000.000000  116000.00000   \n",
       "\n",
       "                        4              5              6              7    \\\n",
       "Prediction    116764.577487  139700.196771  193716.795457  205506.132472   \n",
       "Actual value  144000.000000  160000.000000  213000.000000  219500.000000   \n",
       "\n",
       "                        8              9    ...            355            356  \\\n",
       "Prediction    137235.153577  177426.075219  ...  124909.937607  178069.129965   \n",
       "Actual value  110500.000000  157500.000000  ...  119000.000000  265900.000000   \n",
       "\n",
       "                        357           358           359            360  \\\n",
       "Prediction    114728.237457  149881.89692  211400.80098  124588.410233   \n",
       "Actual value  135000.000000  185000.00000  230000.00000  149900.000000   \n",
       "\n",
       "                        361            362            363            364  \n",
       "Prediction    139914.548353  168530.484562  160706.651816  122444.894413  \n",
       "Actual value  118000.000000  162000.000000  147000.000000  119900.000000  \n",
       "\n",
       "[2 rows x 365 columns]"
      ]
     },
     "execution_count": 222,
     "metadata": {},
     "output_type": "execute_result"
    }
   ],
   "source": [
    "slr0 = ScratchLinearRegression(lr=0.01)\n",
    "slr0.fit(X_train_scaled, y_train, X_test_scaled, y_test)\n",
    "slr0Pred = slr0.predict(X_test_scaled)\n",
    "\n",
    "result_reg = pd.DataFrame([slr0Pred, y_test], index=['Prediction', 'Actual value'])\n",
    "result_reg"
   ]
  },
  {
   "cell_type": "code",
   "execution_count": 223,
   "id": "76dc402e-f368-4033-92ff-9d2a6cb8e39e",
   "metadata": {},
   "outputs": [
    {
     "data": {
      "text/plain": [
       "3158997163.1936707"
      ]
     },
     "execution_count": 223,
     "metadata": {},
     "output_type": "execute_result"
    }
   ],
   "source": [
    "MSE(y_test, slr0Pred)"
   ]
  },
  {
   "cell_type": "code",
   "execution_count": 224,
   "id": "62e48b07-5f80-4a4c-a46a-5cd2dc7e72f9",
   "metadata": {},
   "outputs": [
    {
     "data": {
      "image/png": "[encoded data removed]",
      "text/plain": [
       "<Figure size 640x480 with 1 Axes>"
      ]
     },
     "metadata": {},
     "output_type": "display_data"
    }
   ],
   "source": [
    "import matplotlib.pyplot as plt\n",
    "%matplotlib inline\n",
    "\n",
    "plt.title('Predict with Scratch Linear Regression')\n",
    "plt.xlabel('GrLivArea')\n",
    "plt.ylabel('SalePrice')\n",
    "plt.scatter(X_test, y_test, label='Truth value')\n",
    "plt.scatter(X_test, slr0Pred, label='Predicted value')\n",
    "plt.legend()\n",
    "plt.show()\n",
    "     "
   ]
  },
  {
   "cell_type": "code",
   "execution_count": 164,
   "id": "5b570e8e-de14-443f-a162-ed560c485dde",
   "metadata": {},
   "outputs": [
    {
     "data": {
      "text/html": [
       "<div>\n",
       "<style scoped>\n",
       "    .dataframe tbody tr th:only-of-type {\n",
       "        vertical-align: middle;\n",
       "    }\n",
       "\n",
       "    .dataframe tbody tr th {\n",
       "        vertical-align: top;\n",
       "    }\n",
       "\n",
       "    .dataframe thead th {\n",
       "        text-align: right;\n",
       "    }\n",
       "</style>\n",
       "<table border=\"1\" class=\"dataframe\">\n",
       "  <thead>\n",
       "    <tr style=\"text-align: right;\">\n",
       "      <th></th>\n",
       "      <th>0</th>\n",
       "      <th>1</th>\n",
       "      <th>2</th>\n",
       "      <th>3</th>\n",
       "      <th>4</th>\n",
       "      <th>5</th>\n",
       "      <th>6</th>\n",
       "      <th>7</th>\n",
       "      <th>8</th>\n",
       "      <th>9</th>\n",
       "      <th>...</th>\n",
       "      <th>355</th>\n",
       "      <th>356</th>\n",
       "      <th>357</th>\n",
       "      <th>358</th>\n",
       "      <th>359</th>\n",
       "      <th>360</th>\n",
       "      <th>361</th>\n",
       "      <th>362</th>\n",
       "      <th>363</th>\n",
       "      <th>364</th>\n",
       "    </tr>\n",
       "  </thead>\n",
       "  <tbody>\n",
       "    <tr>\n",
       "      <th>Predicted value</th>\n",
       "      <td>173524.726681</td>\n",
       "      <td>206775.016173</td>\n",
       "      <td>245275.351375</td>\n",
       "      <td>148406.860934</td>\n",
       "      <td>157671.64748</td>\n",
       "      <td>214598.613701</td>\n",
       "      <td>212848.598465</td>\n",
       "      <td>199363.186937</td>\n",
       "      <td>256598.979376</td>\n",
       "      <td>275643.262831</td>\n",
       "      <td>...</td>\n",
       "      <td>240848.842248</td>\n",
       "      <td>134509.681116</td>\n",
       "      <td>132347.897588</td>\n",
       "      <td>202142.622901</td>\n",
       "      <td>171980.59559</td>\n",
       "      <td>126994.909806</td>\n",
       "      <td>133994.970752</td>\n",
       "      <td>187627.790645</td>\n",
       "      <td>191333.705264</td>\n",
       "      <td>170642.348645</td>\n",
       "    </tr>\n",
       "    <tr>\n",
       "      <th>Truth value</th>\n",
       "      <td>155835.000000</td>\n",
       "      <td>170000.000000</td>\n",
       "      <td>313000.000000</td>\n",
       "      <td>178000.000000</td>\n",
       "      <td>158000.00000</td>\n",
       "      <td>136900.000000</td>\n",
       "      <td>192140.000000</td>\n",
       "      <td>228000.000000</td>\n",
       "      <td>235000.000000</td>\n",
       "      <td>402000.000000</td>\n",
       "      <td>...</td>\n",
       "      <td>205000.000000</td>\n",
       "      <td>91000.000000</td>\n",
       "      <td>142000.000000</td>\n",
       "      <td>126000.000000</td>\n",
       "      <td>148500.00000</td>\n",
       "      <td>149000.000000</td>\n",
       "      <td>145000.000000</td>\n",
       "      <td>178000.000000</td>\n",
       "      <td>284000.000000</td>\n",
       "      <td>227680.000000</td>\n",
       "    </tr>\n",
       "  </tbody>\n",
       "</table>\n",
       "<p>2 rows × 365 columns</p>\n",
       "</div>"
      ],
      "text/plain": [
       "                           0              1              2              3    \\\n",
       "Predicted value  173524.726681  206775.016173  245275.351375  148406.860934   \n",
       "Truth value      155835.000000  170000.000000  313000.000000  178000.000000   \n",
       "\n",
       "                          4              5              6              7    \\\n",
       "Predicted value  157671.64748  214598.613701  212848.598465  199363.186937   \n",
       "Truth value      158000.00000  136900.000000  192140.000000  228000.000000   \n",
       "\n",
       "                           8              9    ...            355  \\\n",
       "Predicted value  256598.979376  275643.262831  ...  240848.842248   \n",
       "Truth value      235000.000000  402000.000000  ...  205000.000000   \n",
       "\n",
       "                           356            357            358           359  \\\n",
       "Predicted value  134509.681116  132347.897588  202142.622901  171980.59559   \n",
       "Truth value       91000.000000  142000.000000  126000.000000  148500.00000   \n",
       "\n",
       "                           360            361            362            363  \\\n",
       "Predicted value  126994.909806  133994.970752  187627.790645  191333.705264   \n",
       "Truth value      149000.000000  145000.000000  178000.000000  284000.000000   \n",
       "\n",
       "                           364  \n",
       "Predicted value  170642.348645  \n",
       "Truth value      227680.000000  \n",
       "\n",
       "[2 rows x 365 columns]"
      ]
     },
     "execution_count": 164,
     "metadata": {},
     "output_type": "execute_result"
    }
   ],
   "source": [
    "from sklearn.linear_model import LinearRegression\n",
    "from sklearn.metrics import mean_squared_error\n",
    "\n",
    "lr = LinearRegression()\n",
    "lr.fit(X_train_scaled, y_train)\n",
    "lr_predict = lr.predict(X_test_scaled)\n",
    "\n",
    "pd.DataFrame([lr_predict, y_test], index=['Predicted value', 'Truth value'])"
   ]
  },
  {
   "cell_type": "code",
   "execution_count": 189,
   "id": "615d86fb-78ca-45c8-b905-4b9d0c7945f1",
   "metadata": {},
   "outputs": [
    {
     "data": {
      "text/plain": [
       "9966716519.75694"
      ]
     },
     "execution_count": 189,
     "metadata": {},
     "output_type": "execute_result"
    }
   ],
   "source": [
    "MSE(y_test, lr_predict)"
   ]
  },
  {
   "cell_type": "code",
   "execution_count": 190,
   "id": "bd38e33b-b23e-4c76-8a9d-6d3fd0245b77",
   "metadata": {},
   "outputs": [
    {
     "data": {
      "image/png": "[encoded data removed]",
      "text/plain": [
       "<Figure size 640x480 with 1 Axes>"
      ]
     },
     "metadata": {},
     "output_type": "display_data"
    }
   ],
   "source": [
    "import matplotlib.pyplot as plt\n",
    "%matplotlib inline\n",
    "\n",
    "plt.title('Predict with Scratch Linear Regression')\n",
    "plt.xlabel('GrLivArea')\n",
    "plt.ylabel('SalePrice')\n",
    "plt.scatter(X_test, y_test, label='Truth value')\n",
    "plt.scatter(X_test, lr_predict, label='Predicted value')\n",
    "plt.legend()\n",
    "plt.show()\n",
    "     "
   ]
  },
  {
   "cell_type": "markdown",
   "id": "3bb705fd-2f05-47d3-8065-885b2ee6f59f",
   "metadata": {},
   "source": [
    "# Problem 7: Learning Curve"
   ]
  },
  {
   "cell_type": "code",
   "execution_count": 191,
   "id": "717b46d9-6913-492b-85f5-523849aa4988",
   "metadata": {},
   "outputs": [
    {
     "data": {
      "image/png": "[encoded data removed]",
      "text/plain": [
       "<Figure size 640x480 with 1 Axes>"
      ]
     },
     "metadata": {},
     "output_type": "display_data"
    }
   ],
   "source": [
    "plt.title('Learning Curve Plot')\n",
    "plt.xlabel('iter')\n",
    "plt.ylabel('loss')\n",
    "plt.scatter(range(slr0.iter), slr0.loss, label='train_loss')\n",
    "plt.scatter(range(slr0.iter), slr0.val_loss, label='val_loss')\n",
    "plt.legend()\n",
    "plt.show()"
   ]
  },
  {
   "cell_type": "code",
   "execution_count": null,
   "id": "364ffd83-ccb9-4fd9-9c61-3a0a5494eb3d",
   "metadata": {},
   "outputs": [],
   "source": []
  }
 ],
 "metadata": {
  "kernelspec": {
   "display_name": "Python 3 (ipykernel)",
   "language": "python",
   "name": "python3"
  },
  "language_info": {
   "codemirror_mode": {
    "name": "ipython",
    "version": 3
   },
   "file_extension": ".py",
   "mimetype": "text/x-python",
   "name": "python",
   "nbconvert_exporter": "python",
   "pygments_lexer": "ipython3",
   "version": "3.8.10"
  }
 },
 "nbformat": 4,
 "nbformat_minor": 5
}
