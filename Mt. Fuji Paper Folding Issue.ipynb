{
 "cells": [
  {
   "cell_type": "markdown",
   "id": "30f473ce-e427-43ef-b2b0-944fe543eea7",
   "metadata": {},
   "source": [
    "# Problem 1\n"
   ]
  },
  {
   "cell_type": "code",
   "execution_count": 1,
   "id": "83f4554d-0e14-4629-b3bc-46b119ce6b2e",
   "metadata": {},
   "outputs": [
    {
     "name": "stdout",
     "output_type": "stream",
     "text": [
      "The minimum number of folds over Mt. Fuji is 26 times.\n"
     ]
    }
   ],
   "source": [
    "thickness = 0.00008\n",
    "mfuji_height = 3776\n",
    "nbr_of_folds = 0\n",
    "new_thickness = thickness * 2**nbr_of_folds\n",
    "while new_thickness <= mfuji_height:\n",
    "  nbr_of_folds += 1\n",
    "  new_thickness = thickness * 2**nbr_of_folds\n",
    "print(\"The minimum number of folds over Mt. Fuji is {} times.\" .format(nbr_of_folds))"
   ]
  },
  {
   "cell_type": "markdown",
   "id": "71af8def-dba0-4768-bd08-e99bdf682e70",
   "metadata": {},
   "source": [
    "# Problem 2\n"
   ]
  },
  {
   "cell_type": "code",
   "execution_count": 2,
   "id": "6b5a9aa1-48de-4f28-8750-e4da7d81b21f",
   "metadata": {},
   "outputs": [
    {
     "name": "stdout",
     "output_type": "stream",
     "text": [
      "The number of paper folds are 25.897353 times\n"
     ]
    }
   ],
   "source": [
    "import math\n",
    "def arbitrary_tickness(distance):\n",
    "  thickness = 0.00008\n",
    "  times = math.log2(distance/thickness)\n",
    "  return times\n",
    "print (\"The number of paper folds are {:2f} times\".format(arbitrary_tickness(5000)))"
   ]
  },
  {
   "cell_type": "markdown",
   "id": "e6656303-0ed3-4099-b323-d0de84234a63",
   "metadata": {},
   "source": [
    "# Problem 3\n"
   ]
  },
  {
   "cell_type": "code",
   "execution_count": 6,
   "id": "ed3d9f07-fa44-4723-8d27-a93e3a5e3037",
   "metadata": {},
   "outputs": [
    {
     "data": {
      "text/plain": [
       "'The length of paper needed to reach out to 384400000 kilometers is 967,108,929,679,232,729,088 meters'"
      ]
     },
     "execution_count": 6,
     "metadata": {},
     "output_type": "execute_result"
    }
   ],
   "source": [
    "def paper_legth(distance):\n",
    "    thickness = 0.00008\n",
    "    n = arbitrary_tickness(distance)\n",
    "    l= (thickness*math.pi)/6*(2**n+4)*(2**n - 1)\n",
    "    return f'The length of paper needed to reach out to {distance} kilometers is {round(l):,} meters'\n",
    "\n",
    "#Reach the Moon with a distance of:\n",
    "paper_legth(384400000)"
   ]
  },
  {
   "cell_type": "code",
   "execution_count": 7,
   "id": "e56fd985-a591-408b-89d3-21e717a4b0a1",
   "metadata": {},
   "outputs": [
    {
     "data": {
      "text/plain": [
       "'The length of paper needed to reach out to 3776 kilometers is 93,319,549,630 meters'"
      ]
     },
     "execution_count": 7,
     "metadata": {},
     "output_type": "execute_result"
    }
   ],
   "source": [
    "#Reach Mt. Fuji with a distance of:\n",
    "paper_legth(3776)"
   ]
  },
  {
   "cell_type": "code",
   "execution_count": null,
   "id": "226bc050-3c81-45f8-ba96-37571f30e58c",
   "metadata": {},
   "outputs": [],
   "source": [
    "#Reach Mt. Fuji with a distance of:\n",
    "paper_legth(3776)"
   ]
  }
 ],
 "metadata": {
  "kernelspec": {
   "display_name": "Python 3 (ipykernel)",
   "language": "python",
   "name": "python3"
  },
  "language_info": {
   "codemirror_mode": {
    "name": "ipython",
    "version": 3
   },
   "file_extension": ".py",
   "mimetype": "text/x-python",
   "name": "python",
   "nbconvert_exporter": "python",
   "pygments_lexer": "ipython3",
   "version": "3.8.10"
  }
 },
 "nbformat": 4,
 "nbformat_minor": 5
}
