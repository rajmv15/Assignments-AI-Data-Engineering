{
 "cells": [
  {
   "cell_type": "markdown",
   "id": "8c83b0ea-8814-40f2-b323-7d7e620910b5",
   "metadata": {},
   "source": [
    "# Problem 1: Classifying fully connected layers"
   ]
  },
  {
   "cell_type": "code",
   "execution_count": 1,
   "id": "f6666dfe-e03b-452c-9945-04403c8fc7ab",
   "metadata": {},
   "outputs": [],
   "source": [
    "import numpy as np\n",
    "import pandas as pd\n",
    "from keras.datasets import mnist\n",
    "(X_train, y_train), (X_test, y_test) = mnist.load_data()"
   ]
  },
  {
   "cell_type": "code",
   "execution_count": 2,
   "id": "82577849-7c45-43de-81f2-f577c40f6335",
   "metadata": {},
   "outputs": [],
   "source": [
    "class FC:\n",
    "    \n",
    "     \"\"\"\n",
    "    Number of nodes Fully connected layer from n_nodes1 to n_nodes2\n",
    "    Parameters\n",
    "    ----------\n",
    "    n_nodes1 : int\n",
    "      Number of nodes in the previous layer\n",
    "    n_nodes2 : int\n",
    "      Number of nodes in the later layer\n",
    "    initializer: instance of initialization method\n",
    "    optimizer: instance of optimization method\n",
    "    \"\"\"\n",
    "    \n",
    "     def __init__(self, n_nodes1, n_nodes2, initializer, optimizer):\n",
    "        self.n_nodes1 = n_nodes1\n",
    "        self.n_nodes2 = n_nodes2\n",
    "        self.W = initializer.W(self.n_nodes1, self.n_nodes2)\n",
    "        self.B = initializer.B(self.n_nodes2)\n",
    "        self.optimizer = optimizer\n",
    "        self.HW = 0\n",
    "        self.HB = 0\n",
    "        \n",
    "    \n",
    "     def forward(self, X):\n",
    "        \"\"\"\n",
    "        forward\n",
    "        Parameters\n",
    "        ----------\n",
    "        X : The following forms of ndarray, shape (batch_size, n_nodes1)\n",
    "            入力\n",
    "        Returns\n",
    "        ----------\n",
    "        A : The following forms of ndarray, shape (batch_size, n_nodes2)\n",
    "            output\n",
    "        \"\"\"        \n",
    "        self.Z = X\n",
    "        self.A = X @ self.W + self.B\n",
    "        return self.A\n",
    "    \n",
    "    \n",
    "     def backward(self, dA):\n",
    "        \n",
    "       \"\"\"\n",
    "        Backward\n",
    "        Parameters\n",
    "        ----------\n",
    "        dA : The following forms of ndarray, shape (batch_size, n_nodes2)\n",
    "            Gradient flowing from behind\n",
    "        Returns\n",
    "        ----------\n",
    "        dZ : The following forms of ndarray, shape (batch_size, n_nodes1)\n",
    "            Gradient to flow forward\n",
    "        \"\"\"\n",
    "       self.dB = np.sum(dA, axis=0)\n",
    "       self.dW = self.Z.T @ dA\n",
    "       self.dZ = dA @ self.W.T\n",
    "       self = self.optimizer.update(self)\n",
    "        \n",
    "       return self.dZ"
   ]
  },
  {
   "cell_type": "markdown",
   "id": "4e0b1a0f-5dbd-445e-8357-6c182c74658b",
   "metadata": {},
   "source": [
    "# Problem 2: Classifying the initialization method"
   ]
  },
  {
   "cell_type": "code",
   "execution_count": 3,
   "id": "e6c68622-7354-4065-b21f-ff3c531e9ad9",
   "metadata": {},
   "outputs": [],
   "source": [
    "class SimpleInitializer:\n",
    "    \"\"\"\n",
    "    Simple initialization with Gaussian distribution\n",
    "    Parameters\n",
    "    ----------\n",
    "    sigma : float\n",
    "      Standard deviation of Gaussian distribution\n",
    "    \"\"\"\n",
    "    def __init__(self, sigma):\n",
    "        self.sigma = sigma\n",
    "    def W(self, n_nodes1, n_nodes2):\n",
    "        \"\"\"\n",
    "        Weight initialization\n",
    "        Parameters\n",
    "        ----------\n",
    "        n_nodes1 : int\n",
    "          Number of nodes in the previous layer\n",
    "        n_nodes2 : int\n",
    "          Number of nodes in the later layer\n",
    "\n",
    "        Returns\n",
    "        ----------\n",
    "        W :\n",
    "        \"\"\"\n",
    "        W = self.sigma * np.random.randn(n_nodes1, n_nodes2)\n",
    "        return W\n",
    "    def B(self, n_nodes2):\n",
    "        \"\"\"\n",
    "        Bias initialization\n",
    "        Parameters\n",
    "        ----------\n",
    "        n_nodes2 : int\n",
    "          Number of nodes in the later layer\n",
    "\n",
    "        Returns\n",
    "        ----------\n",
    "        B :\n",
    "        \"\"\"\n",
    "        B = self.sigma * np.random.randn(1, n_nodes2)\n",
    "        return B"
   ]
  },
  {
   "cell_type": "markdown",
   "id": "3f57a67a-7275-46d0-8018-1d36fdb8f98f",
   "metadata": {},
   "source": [
    "# Problem 3: Classifying optimization methods"
   ]
  },
  {
   "cell_type": "code",
   "execution_count": 4,
   "id": "40e111ea-e0e1-477e-b322-65f2c3d81d82",
   "metadata": {},
   "outputs": [],
   "source": [
    "class SGD:\n",
    "    \"\"\"\n",
    "    Stochastic gradient descent\n",
    "    Parameters\n",
    "    ----------\n",
    "    lr : Learning rate\n",
    "    \"\"\"\n",
    "    def __init__(self, lr):\n",
    "        self.lr = lr\n",
    "    def update(self, layer):\n",
    "        \"\"\"\n",
    "        ある層の重みやバイアスのupdate\n",
    "        Parameters\n",
    "        ----------\n",
    "        layer : update前の層のインスタンス\n",
    "        \"\"\"\n",
    "        layer.W -= self.lr * layer.dW / len(layer.Z)\n",
    "        layer.B -= self.lr * layer.dB / len(layer.Z)\n",
    "\n",
    "        return layer"
   ]
  },
  {
   "cell_type": "markdown",
   "id": "999acfce-d9c5-4f3e-bf8e-c8ab5a244644",
   "metadata": {},
   "source": [
    "# Problem 4: Classifying activation functions"
   ]
  },
  {
   "cell_type": "code",
   "execution_count": 5,
   "id": "0037c897-0369-4d67-b483-e65ac3cefb07",
   "metadata": {},
   "outputs": [],
   "source": [
    "class Sigmoid:\n",
    "\n",
    "    def forward(self, A):\n",
    "        self.A = A\n",
    "        Z = 1 / (1 + np.exp(-self.A))\n",
    "        return Z\n",
    "    \n",
    "    def backward(self, dZ):\n",
    "        dA = dZ * ((1 / (1 + np.exp(-self.A))) - (1 / (1 + np.exp(-self.A)))**2)\n",
    "        return dA"
   ]
  },
  {
   "cell_type": "code",
   "execution_count": 6,
   "id": "544a52f7-f048-4fea-8367-5d425a8c8b4e",
   "metadata": {},
   "outputs": [],
   "source": [
    "class Tanh:\n",
    "\n",
    "    def forward(self, A):\n",
    "        self.A = A\n",
    "        Z = np.tanh(self.A)\n",
    "        return Z\n",
    "    \n",
    "    def backward(self, dZ):\n",
    "        dA = dZ * (1 - np.tanh(self.A)**2)\n",
    "        return dA"
   ]
  },
  {
   "cell_type": "code",
   "execution_count": 7,
   "id": "9419677a-1029-4ec3-b649-84ac7423e73d",
   "metadata": {},
   "outputs": [],
   "source": [
    "class softmax:\n",
    "\n",
    "    def forward(self, A): \n",
    "        Z = np.exp(A) / np.sum(np.exp(A), axis=1).reshape(-1, 1)\n",
    "        return Z\n",
    "        \n",
    "    def backward(self, Z, y):\n",
    "        dA = Z - y\n",
    "        loss = - np.sum(y * np.log(Z)) / len(y)\n",
    "        return dA, loss"
   ]
  },
  {
   "cell_type": "markdown",
   "id": "f3cea0f5-170f-4874-a35a-414cb0ae7eb0",
   "metadata": {},
   "source": [
    "# Problem 5: ReLU class creation"
   ]
  },
  {
   "cell_type": "code",
   "execution_count": 8,
   "id": "3f134875-a8ea-4f23-9bdc-4fff7151b8f0",
   "metadata": {},
   "outputs": [],
   "source": [
    "class ReLU:\n",
    "\n",
    "    def forward(self, A):\n",
    "        self.A = A\n",
    "        Z = np.maximum(0, A)\n",
    "        return Z\n",
    "    \n",
    "    def backward(self, dZ):\n",
    "        dA = dZ * np.where(self.A > 0, 1, 0)\n",
    "        return dA"
   ]
  },
  {
   "cell_type": "markdown",
   "id": "2befa345-8ae4-4774-8f39-fe4b8467a345",
   "metadata": {},
   "source": [
    "# Problem 6: Initial value of weight"
   ]
  },
  {
   "cell_type": "code",
   "execution_count": 9,
   "id": "19c4647d-7c0d-4344-b06f-97d152ef9b52",
   "metadata": {},
   "outputs": [],
   "source": [
    "class XavierInitializer:\n",
    "    \n",
    "    def __init__(self, sigma):\n",
    "        _ = sigma\n",
    "        \n",
    "    def W(self, n_nodes1, n_nodes2):\n",
    "        self.sigma = 1 / np.sqrt(n_nodes1)\n",
    "        W = self.sigma * np.random.randn(n_nodes1, n_nodes2)\n",
    "        return W\n",
    "        \n",
    "    def B(self, n_nodes2):\n",
    "        B = self.sigma * np.random.randn(1, n_nodes2)\n",
    "        return B"
   ]
  },
  {
   "cell_type": "code",
   "execution_count": 10,
   "id": "3ffece93-4239-4e74-ae20-1f2646d6e4af",
   "metadata": {},
   "outputs": [],
   "source": [
    "class HeInitializer:\n",
    "\n",
    "    def __init__(self, sigma):\n",
    "        _ = sigma\n",
    "        \n",
    "    def W(self, n_nodes1, n_nodes2):\n",
    "        self.sigma = np.sqrt(2 / n_nodes1)\n",
    "        W = self.sigma * np.random.randn(n_nodes1, n_nodes2)\n",
    "        return W\n",
    "    \n",
    "    def B(self, n_nodes2):\n",
    "        B = self.sigma * np.random.randn(1, n_nodes2)\n",
    "        return B"
   ]
  },
  {
   "cell_type": "markdown",
   "id": "64b4205a-c8fa-4db6-97b0-bb8c9f0af7de",
   "metadata": {},
   "source": [
    "# Problem 7: Optimization method"
   ]
  },
  {
   "cell_type": "code",
   "execution_count": 11,
   "id": "353e4c29-fd90-43b2-8c70-bc9c83ae8d05",
   "metadata": {},
   "outputs": [],
   "source": [
    "class AdaGrad:\n",
    "\n",
    "    def __init__(self, lr):\n",
    "        self.lr = lr \n",
    "    \n",
    "    def update(self, layer):\n",
    "        layer.HW += layer.dW * layer.dW\n",
    "        layer.HB += layer.dB * layer.dB\n",
    "        delta = 1e-7 \n",
    "        layer.W -= self.lr * layer.dW / (np.sqrt(layer.HW) + delta) / len(layer.Z)\n",
    "        layer.B -= self.lr * layer.dB / (np.sqrt(layer.HB) + delta) / len(layer.Z)\n",
    "        return layer"
   ]
  },
  {
   "cell_type": "markdown",
   "id": "d6e076b8-9daf-4344-8316-e7cf8f882bbb",
   "metadata": {},
   "source": [
    "# Problem 8: Class completion"
   ]
  },
  {
   "cell_type": "code",
   "execution_count": 12,
   "id": "ce380424-a299-4105-be4d-be4ac107255b",
   "metadata": {},
   "outputs": [],
   "source": [
    "class GetMiniBatch:\n",
    "\n",
    "    def __init__(self, X, y, batch_size = 20, seed=0):\n",
    "        self.batch_size = batch_size\n",
    "        np.random.seed(seed)\n",
    "        shuffle_index = np.random.permutation(np.arange(X.shape[0]))\n",
    "        self._X = X[shuffle_index]\n",
    "        self._y = y[shuffle_index]\n",
    "        self._stop = np.ceil(X.shape[0]/self.batch_size).astype(np.int64)\n",
    "        \n",
    "    def __len__(self):\n",
    "        return self._stop\n",
    "    \n",
    "    def __getitem__(self,item):\n",
    "        p0 = item*self.batch_size\n",
    "        p1 = item*self.batch_size + self.batch_size\n",
    "        return self._X[p0:p1], self._y[p0:p1] \n",
    "    \n",
    "    def __iter__(self):\n",
    "        self._counter = 0\n",
    "        return self\n",
    "    \n",
    "    def __next__(self):\n",
    "        if self._counter >= self._stop:\n",
    "            raise StopIteration()\n",
    "        p0 = self._counter*self.batch_size\n",
    "        p1 = self._counter*self.batch_size + self.batch_size\n",
    "        self._counter += 1\n",
    "        return self._X[p0:p1], self._y[p0:p1]"
   ]
  },
  {
   "cell_type": "code",
   "execution_count": 13,
   "id": "65516b78-4bac-48f1-b6b3-bcb2a8198232",
   "metadata": {},
   "outputs": [],
   "source": [
    "class ScratchDeepNeuralNetrowkClassifier():\n",
    "\n",
    "    def __init__(self, verbose=False, epoch=1, optimizer=SGD, initializer=HeInitializer, activator=ReLU):\n",
    "        self.verbose = verbose\n",
    "        self.batch_size = 20 \n",
    "        self.n_features = 784 \n",
    "        self.n_nodes1 = 400 \n",
    "        self.n_nodes2 = 200 \n",
    "        self.n_output = 10 \n",
    "        self.sigma = 0.02 \n",
    "        self.lr = 0.5 \n",
    "        self.epoch = epoch \n",
    "        self.optimizer = optimizer \n",
    "        self.initializer = initializer \n",
    "        self.activator = activator \n",
    "    \n",
    "    def fit(self, X, y, X_val=None, y_val=None):\n",
    "        self.loss_train = [] \n",
    "        self.loss_val = [] \n",
    "        optimizer = self.optimizer(self.lr)\n",
    "        self.FC1 = FC(self.n_features, self.n_nodes1, self.initializer(self.sigma), optimizer)\n",
    "        self.activation1 = self.activator()\n",
    "        self.FC2 = FC(self.n_nodes1, self.n_nodes2, self.initializer(self.sigma), optimizer)\n",
    "        self.activation2 = self.activator()\n",
    "        self.FC3 = FC(self.n_nodes2, self.n_output, self.initializer(self.sigma), optimizer)\n",
    "        self.activation3 = softmax()\n",
    "        \n",
    "        for i in range(self.epoch):\n",
    "            get_mini_batch = GetMiniBatch(X, y, batch_size=self.batch_size, seed=i)\n",
    "            for mini_X, mini_y in get_mini_batch:\n",
    "                A1 = self.FC1.forward(mini_X)\n",
    "                Z1 = self.activation1.forward(A1)\n",
    "                A2 = self.FC2.forward(Z1)\n",
    "                Z2 = self.activation2.forward(A2)\n",
    "                #print(Z2.shape)\n",
    "                A3 = self.FC3.forward(Z2)\n",
    "                Z3 = self.activation3.forward(A3)\n",
    "                dA3, loss = self.activation3.backward(Z3, mini_y) \n",
    "                dZ2 = self.FC3.backward(dA3)\n",
    "                dA2 = self.activation2.backward(dZ2)\n",
    "                dZ1 = self.FC2.backward(dA2)\n",
    "                dA1 = self.activation1.backward(dZ1)\n",
    "                dZ0 = self.FC1.backward(dA1) \n",
    "\n",
    "            if self.verbose:\n",
    "                A1 = self.FC1.forward(X)\n",
    "                Z1 = self.activation1.forward(A1)\n",
    "                A2 = self.FC2.forward(Z1)\n",
    "                Z2 = self.activation2.forward(A2)\n",
    "                A3 = self.FC3.forward(Z2)\n",
    "                Z3 = self.activation3.forward(A3)            \n",
    "                self.loss_train.append(self.activation3.backward(Z3, y)[1])\n",
    "                \n",
    "                if X_val is not None:\n",
    "                    A1 = self.FC1.forward(X_val)\n",
    "                    Z1 = self.activation1.forward(A1)\n",
    "                    A2 = self.FC2.forward(Z1)\n",
    "                    Z2 = self.activation2.forward(A2)\n",
    "                    A3 = self.FC3.forward(Z2)\n",
    "                    Z3 = self.activation3.forward(A3)            \n",
    "                    self.loss_val.append(self.activation3.backward(Z3, y_val)[1])\n",
    "    \n",
    "    def predict(self, X):\n",
    "        A1 = self.FC1.forward(X)\n",
    "        Z1 = self.activation1.forward(A1)\n",
    "        A2 = self.FC2.forward(Z1)\n",
    "        Z2 = self.activation2.forward(A2)\n",
    "        A3 = self.FC3.forward(Z2)\n",
    "        Z3 = self.activation3.forward(A3)\n",
    "        return np.argmax(Z3, axis=1)"
   ]
  },
  {
   "cell_type": "markdown",
   "id": "40ca42fd-d8b3-40a4-b265-a38b84bdca20",
   "metadata": {},
   "source": [
    "# Problem 9: Learning and estimation"
   ]
  },
  {
   "cell_type": "code",
   "execution_count": 14,
   "id": "fb0e8e4d-d584-4260-925c-c9f861bfe4ca",
   "metadata": {},
   "outputs": [],
   "source": [
    "X_train = X_train.reshape(-1, 784)\n",
    "X_test = X_test.reshape(-1, 784)\n",
    "\n",
    "X_train = X_train.astype(np.float64)\n",
    "X_test = X_test.astype(np.float64)\n",
    "X_train /= 255\n",
    "X_test /= 255"
   ]
  },
  {
   "cell_type": "code",
   "execution_count": 15,
   "id": "5ad45ac6-b4c9-4ea1-92dc-5e9776e4767a",
   "metadata": {},
   "outputs": [],
   "source": [
    "from sklearn.model_selection import train_test_split\n",
    "from sklearn.metrics import accuracy_score\n",
    "\n",
    "X_train, X_val, y_train, y_val = train_test_split(X_train, y_train, test_size=0.2)"
   ]
  },
  {
   "cell_type": "code",
   "execution_count": 16,
   "id": "cbf7432f-4562-4c9c-8c79-0c0613152e18",
   "metadata": {},
   "outputs": [
    {
     "name": "stderr",
     "output_type": "stream",
     "text": [
      "c:\\users\\user\\.pyenv\\pyenv-win\\versions\\3.8.10\\lib\\site-packages\\sklearn\\preprocessing\\_encoders.py:975: FutureWarning: `sparse` was renamed to `sparse_output` in version 1.2 and will be removed in 1.4. `sparse_output` is ignored unless you leave `sparse` to its default value.\n",
      "  warnings.warn(\n"
     ]
    }
   ],
   "source": [
    "from sklearn.preprocessing import OneHotEncoder\n",
    "enc = OneHotEncoder(handle_unknown='ignore', sparse=False)\n",
    "y_train_one_hot = enc.fit_transform(y_train[:, np.newaxis])\n",
    "y_test_one_hot = enc.transform(y_val[:, np.newaxis])"
   ]
  },
  {
   "cell_type": "code",
   "execution_count": 17,
   "id": "556aabdc-3b05-420c-8132-c3544ba90184",
   "metadata": {},
   "outputs": [],
   "source": [
    "SDNN = ScratchDeepNeuralNetrowkClassifier(verbose=True, epoch=10, optimizer=AdaGrad, initializer=HeInitializer, activator=ReLU) \n",
    "\n",
    "SDNN.fit(X_train, y_train_one_hot, X_val, y_test_one_hot)"
   ]
  },
  {
   "cell_type": "code",
   "execution_count": 18,
   "id": "db86d097-404e-4b72-9120-20d0f47f3300",
   "metadata": {},
   "outputs": [
    {
     "data": {
      "text/plain": [
       "0.9778333333333333"
      ]
     },
     "execution_count": 18,
     "metadata": {},
     "output_type": "execute_result"
    }
   ],
   "source": [
    "pred = SDNN.predict(X_val)\n",
    "accuracy_score(y_val, pred)"
   ]
  },
  {
   "cell_type": "code",
   "execution_count": 19,
   "id": "bbe7952e-5bb7-443c-8d4b-2049f856e046",
   "metadata": {},
   "outputs": [
    {
     "data": {
      "image/png": "[encoded data removed]",
      "text/plain": [
       "<Figure size 640x480 with 1 Axes>"
      ]
     },
     "metadata": {},
     "output_type": "display_data"
    }
   ],
   "source": [
    "import matplotlib.pyplot as plt\n",
    "plt.plot(list(range(1, SDNN.epoch+1)), SDNN.loss_train, label='train')\n",
    "plt.plot(list(range(1, SDNN.epoch+1)), SDNN.loss_val, label='test')\n",
    "plt.legend()\n",
    "plt.xticks(list(range(1, SDNN.epoch+1)));"
   ]
  },
  {
   "cell_type": "code",
   "execution_count": 20,
   "id": "a0e64e3d-7cb8-4cf0-8ccb-134713cdc397",
   "metadata": {},
   "outputs": [],
   "source": [
    "class ScratchDeepNeuralNetrowkClassifier_4():\n",
    "\n",
    "    def __init__(self, verbose=False, epoch=1, optimizer=SGD, initializer=HeInitializer, activater=ReLU):\n",
    "        self.verbose = verbose\n",
    "        self.batch_size = 20 \n",
    "        self.n_features = 784 \n",
    "        self.n_nodes1 = 400 \n",
    "        self.n_nodes2 = 200 \n",
    "        self.n_nodes3 = 150 \n",
    "        self.n_output = 10 \n",
    "        self.sigma = 0.02 \n",
    "        self.lr = 0.5 \n",
    "        self.epoch = epoch \n",
    "        self.optimizer = optimizer \n",
    "        self.initializer = initializer \n",
    "        self.activater = activater \n",
    "    \n",
    "    def fit(self, X, y, X_val=None, y_val=None):\n",
    "        self.loss_train = [] \n",
    "        self.loss_val = []\n",
    "        optimizer = self.optimizer(self.lr)\n",
    "\n",
    "        self.FC1 = FC(self.n_features, self.n_nodes1, self.initializer(self.sigma), optimizer)\n",
    "        self.activation1 = self.activater()\n",
    "        self.FC2 = FC(self.n_nodes1, self.n_nodes2, self.initializer(self.sigma), optimizer)\n",
    "        self.activation2 = self.activater()\n",
    "        self.FC3 = FC(self.n_nodes2, self.n_nodes3, self.initializer(self.sigma), optimizer)\n",
    "        self.activation3 = self.activater()\n",
    "        self.FC4 = FC(self.n_nodes3, self.n_output, self.initializer(self.sigma), optimizer)\n",
    "        self.activation4 = softmax()\n",
    "        \n",
    "        for i in range(self.epoch):\n",
    "            get_mini_batch = GetMiniBatch(X, y, batch_size=self.batch_size, seed=i)\n",
    "            for mini_X, mini_y in get_mini_batch:\n",
    "                self.forward(mini_X)\n",
    "                self.backward(mini_y)\n",
    "            \n",
    "            if self.verbose:\n",
    "                self.forward(X)\n",
    "                self.loss_train.append(self.activation4.backward(self.Z4, y)[1])\n",
    "                \n",
    "                if X_val is not None:\n",
    "                    self.forward(X_val)\n",
    "                    self.loss_val.append(self.activation4.backward(self.Z4, y_val)[1])\n",
    "    \n",
    "    def forward(self, X):\n",
    "        A1 = self.FC1.forward(X)\n",
    "        Z1 = self.activation1.forward(A1)\n",
    "        A2 = self.FC2.forward(Z1)\n",
    "        Z2 = self.activation2.forward(A2)\n",
    "        A3 = self.FC3.forward(Z2)\n",
    "        Z3 = self.activation3.forward(A3)\n",
    "        A4 = self.FC4.forward(Z3)\n",
    "        self.Z4 = self.activation4.forward(A4)\n",
    "        \n",
    "    def backward(self, y):\n",
    "        dA4, self.loss = self.activation4.backward(self.Z4, y) \n",
    "        dZ3 = self.FC4.backward(dA4)\n",
    "        dA3 = self.activation3.backward(dZ3)\n",
    "        dZ2 = self.FC3.backward(dA3)\n",
    "        dA2 = self.activation2.backward(dZ2)\n",
    "        dZ1 = self.FC2.backward(dA2)\n",
    "        dA1 = self.activation1.backward(dZ1)\n",
    "        dZ0 = self.FC1.backward(dA1) \n",
    "        \n",
    "    def predict(self, X):\n",
    "        self.forward(X)\n",
    "        return np.argmax(self.Z4, axis=1) "
   ]
  },
  {
   "cell_type": "code",
   "execution_count": 21,
   "id": "a3645d55-999e-4aa7-991a-13b286ac1ffd",
   "metadata": {},
   "outputs": [
    {
     "data": {
      "text/plain": [
       "0.9770833333333333"
      ]
     },
     "execution_count": 21,
     "metadata": {},
     "output_type": "execute_result"
    }
   ],
   "source": [
    "SDNN4 = ScratchDeepNeuralNetrowkClassifier_4(verbose=True, epoch=10, optimizer=AdaGrad, initializer=HeInitializer, activater=ReLU)\n",
    "SDNN4.fit(X_train, y_train_one_hot, X_val, y_test_one_hot)\n",
    "\n",
    "pred = SDNN4.predict(X_val)\n",
    "accuracy_score(y_val, pred)"
   ]
  },
  {
   "cell_type": "code",
   "execution_count": 22,
   "id": "9c61c9e4-31be-4d95-847b-0d021135e17d",
   "metadata": {},
   "outputs": [
    {
     "data": {
      "image/png": "[encoded data removed]",
      "text/plain": [
       "<Figure size 640x480 with 1 Axes>"
      ]
     },
     "metadata": {},
     "output_type": "display_data"
    }
   ],
   "source": [
    "plt.plot(list(range(1, SDNN4.epoch+1)), SDNN4.loss_train, label='train')\n",
    "plt.plot(list(range(1, SDNN4.epoch+1)), SDNN4.loss_val, label='test')\n",
    "plt.legend()\n",
    "plt.xticks(list(range(1, SDNN4.epoch+1)));"
   ]
  },
  {
   "cell_type": "code",
   "execution_count": 23,
   "id": "a2d25b55-82b8-42a0-8433-0865967072b8",
   "metadata": {},
   "outputs": [],
   "source": [
    "class ScratchDeepNeuralNetrowkClassifier_6():\n",
    "\n",
    "    def __init__(self, verbose=False, epoch=1, optimizer=SGD, initializer=HeInitializer, activater=ReLU):\n",
    "        self.verbose = verbose\n",
    "        self.batch_size = 20 \n",
    "        self.n_features = 784 \n",
    "        self.n_nodes1 = 400 \n",
    "        self.n_nodes2 = 200 \n",
    "        self.n_nodes3 = 150 \n",
    "        self.n_nodes4 = 100 \n",
    "        self.n_nodes5 = 50 \n",
    "        self.n_output = 10 \n",
    "        self.sigma = 0.02 \n",
    "        self.lr = 0.5 \n",
    "        self.epoch = epoch \n",
    "        self.optimizer = optimizer \n",
    "        self.initializer = initializer \n",
    "        self.activater = activater \n",
    "    \n",
    "    def fit(self, X, y, X_val=None, y_val=None):\n",
    "        self.loss_train = [] \n",
    "        self.loss_val = []\n",
    "        optimizer = self.optimizer(self.lr)\n",
    "\n",
    "        self.FC1 = FC(self.n_features, self.n_nodes1, self.initializer(self.sigma), optimizer)\n",
    "        self.activation1 = self.activater()\n",
    "        self.FC2 = FC(self.n_nodes1, self.n_nodes2, self.initializer(self.sigma), optimizer)\n",
    "        self.activation2 = self.activater()\n",
    "        self.FC3 = FC(self.n_nodes2, self.n_nodes3, self.initializer(self.sigma), optimizer)\n",
    "        self.activation3 = self.activater()\n",
    "        self.FC4 = FC(self.n_nodes3, self.n_nodes4, self.initializer(self.sigma), optimizer)\n",
    "        self.activation4 = self.activater()\n",
    "        self.FC5 = FC(self.n_nodes4, self.n_nodes5, self.initializer(self.sigma), optimizer)\n",
    "        self.activation5 = self.activater()\n",
    "        self.FC6 = FC(self.n_nodes5, self.n_output, self.initializer(self.sigma), optimizer)\n",
    "        self.activation6 = softmax()\n",
    "        \n",
    "        for i in range(self.epoch):\n",
    "            get_mini_batch = GetMiniBatch(X, y, batch_size=self.batch_size, seed=i)\n",
    "            for mini_X, mini_y in get_mini_batch:\n",
    "                self.forward(mini_X)\n",
    "                self.backward(mini_y)\n",
    "            \n",
    "            if self.verbose:\n",
    "                self.forward(X)\n",
    "                self.loss_train.append(self.activation6.backward(self.Z6, y)[1])\n",
    "                \n",
    "                if X_val is not None:\n",
    "                    self.forward(X_val)\n",
    "                    self.loss_val.append(self.activation6.backward(self.Z6, y_val)[1])\n",
    "    \n",
    "    def forward(self, X):\n",
    "        A1 = self.FC1.forward(X)\n",
    "        Z1 = self.activation1.forward(A1)\n",
    "        A2 = self.FC2.forward(Z1)\n",
    "        Z2 = self.activation2.forward(A2)\n",
    "        A3 = self.FC3.forward(Z2)\n",
    "        Z3 = self.activation3.forward(A3)\n",
    "        A4 = self.FC4.forward(Z3)\n",
    "        Z4 = self.activation4.forward(A4)\n",
    "        A5 = self.FC5.forward(Z4)\n",
    "        Z5 = self.activation5.forward(A5)\n",
    "        A6 = self.FC6.forward(Z5)\n",
    "        self.Z6 = self.activation6.forward(A6)\n",
    "        \n",
    "    def backward(self, y):\n",
    "        dA6, self.loss = self.activation6.backward(self.Z6, y) \n",
    "        dZ5 = self.FC6.backward(dA6)\n",
    "        dA5 = self.activation5.backward(dZ5)\n",
    "        dZ4 = self.FC5.backward(dA5)\n",
    "        dA4 = self.activation4.backward(dZ4)\n",
    "        dZ3 = self.FC4.backward(dA4)\n",
    "        dA3 = self.activation3.backward(dZ3)\n",
    "        dZ2 = self.FC3.backward(dA3)\n",
    "        dA2 = self.activation2.backward(dZ2)\n",
    "        dZ1 = self.FC2.backward(dA2)\n",
    "        dA1 = self.activation1.backward(dZ1)\n",
    "        dZ0 = self.FC1.backward(dA1) \n",
    "        \n",
    "    def predict(self, X):\n",
    "        self.forward(X)\n",
    "        return np.argmax(self.Z6, axis=1)"
   ]
  },
  {
   "cell_type": "code",
   "execution_count": 24,
   "id": "321785d5-fe07-4bbf-97bc-769103822c11",
   "metadata": {},
   "outputs": [
    {
     "data": {
      "text/plain": [
       "0.9775833333333334"
      ]
     },
     "execution_count": 24,
     "metadata": {},
     "output_type": "execute_result"
    }
   ],
   "source": [
    "SDNN6 = ScratchDeepNeuralNetrowkClassifier_6(verbose=True, epoch=10, optimizer=AdaGrad, initializer=HeInitializer, activater=ReLU)\n",
    "SDNN6.fit(X_train, y_train_one_hot, X_val, y_test_one_hot)\n",
    "\n",
    "pred = SDNN6.predict(X_val)\n",
    "accuracy_score(y_val, pred)"
   ]
  },
  {
   "cell_type": "code",
   "execution_count": 25,
   "id": "d9eb8ea1-1499-4a4d-aae4-d9ef485bb477",
   "metadata": {},
   "outputs": [
    {
     "data": {
      "image/png": "[encoded data removed]",
      "text/plain": [
       "<Figure size 640x480 with 1 Axes>"
      ]
     },
     "metadata": {},
     "output_type": "display_data"
    }
   ],
   "source": [
    "plt.plot(list(range(1, SDNN6.epoch+1)), SDNN6.loss_train, label='train')\n",
    "plt.plot(list(range(1, SDNN6.epoch+1)), SDNN6.loss_val, label='test')\n",
    "plt.legend()\n",
    "plt.xticks(list(range(1, SDNN6.epoch+1)));"
   ]
  },
  {
   "cell_type": "code",
   "execution_count": 26,
   "id": "e984c4b3-367e-45a5-a01a-c1b9e5ac378c",
   "metadata": {},
   "outputs": [],
   "source": [
    "class General_ScratchDeepNeuralNetrowkClassifier():\n",
    "\n",
    "    def __init__(self, verbose=False, epoch=1, optimizer=SGD, initializer=HeInitializer, activater=ReLU, n_nodes=None):\n",
    "        self.verbose = verbose\n",
    "        self.batch_size = 20 \n",
    "        self.sigma = 0.02\n",
    "        self.lr = 0.5 \n",
    "        self.epoch = epoch \n",
    "        self.optimizer = optimizer \n",
    "        self.initializer = initializer \n",
    "        self.activater = activater \n",
    "        self.n_nodes = n_nodes \n",
    "    \n",
    "    def fit(self, X, y, X_val=None, y_val=None):\n",
    "        self.loss_train = [] \n",
    "        self.loss_val = [] \n",
    "        optimizer = self.optimizer(self.lr)\n",
    "        self.fcs = [] \n",
    "        self.act = [] \n",
    "        \n",
    "        for i in range(len(self.n_nodes)-2):\n",
    "            self.fcs.append(FC(self.n_nodes[i], self.n_nodes[i+1], self.initializer(self.sigma), optimizer))\n",
    "            self.act.append(self.activater())\n",
    "        self.fcs.append(FC(self.n_nodes[i+1], self.n_nodes[-1], self.initializer(self.sigma), optimizer))\n",
    "        self.act.append(softmax())\n",
    "\n",
    "        for i in range(self.epoch):\n",
    "            get_mini_batch = GetMiniBatch(X, y, batch_size=self.batch_size, seed=i)\n",
    "            for mini_X, mini_y in get_mini_batch:\n",
    "                A = []\n",
    "                Z = []\n",
    "                for i, (f, a) in enumerate(zip(self.fcs, self.act)):\n",
    "                    if i == 0:\n",
    "                        A.append(f.forward(mini_X))\n",
    "                        Z.append(a.forward(A[i]))\n",
    "                    else:\n",
    "                        A.append(f.forward(Z[i-1]))\n",
    "                        Z.append(a.forward(A[i]))     \n",
    "                dA = []\n",
    "                dZ = []\n",
    "                for i, (f, a) in enumerate(zip(self.fcs[::-1], self.act[::-1])):\n",
    "                    if i == 0:\n",
    "                        dA.append(a.backward(Z[-(i+1)], mini_y)[0])\n",
    "                        dZ.append(f.backward(dA[i]))\n",
    "                    else:\n",
    "                        dA.append(a.backward(dZ[i-1]))\n",
    "                        dZ.append(f.backward(dA[i]))\n",
    "\n",
    "            if self.verbose:\n",
    "                A = []\n",
    "                Z = []\n",
    "                for i, (f, a) in enumerate(zip(self.fcs, self.act)):\n",
    "                    if i == 0:\n",
    "                        A.append(f.forward(X))\n",
    "                        Z.append(a.forward(A[i]))\n",
    "                    else:\n",
    "                        A.append(f.forward(Z[i-1]))\n",
    "                        Z.append(a.forward(A[i]))           \n",
    "                self.loss_train.append(self.act[-1].backward(Z[-1], y)[1])\n",
    "                \n",
    "                if X_val is not None:\n",
    "                    A = []\n",
    "                    Z = []\n",
    "                    for i, (f, a) in enumerate(zip(self.fcs, self.act)):\n",
    "                        if i == 0:\n",
    "                            A.append(f.forward(X_val))\n",
    "                            Z.append(a.forward(A[i]))\n",
    "                        else:\n",
    "                            A.append(f.forward(Z[i-1]))\n",
    "                            Z.append(a.forward(A[i]))           \n",
    "                    self.loss_val.append(self.act[-1].backward(Z[-1], y_val)[1])\n",
    "    \n",
    "    def predict(self, X):\n",
    "        A = []\n",
    "        Z = []\n",
    "        for i, (f, a) in enumerate(zip(self.fcs, self.act)):\n",
    "            if i == 0:\n",
    "                A.append(f.forward(X))\n",
    "                Z.append(a.forward(A[i]))\n",
    "            else:\n",
    "                A.append(f.forward(Z[i-1]))\n",
    "                Z.append(a.forward(A[i]))\n",
    "        return np.argmax(Z[-1], axis=1)"
   ]
  },
  {
   "cell_type": "code",
   "execution_count": 27,
   "id": "955fd59f-8f75-4990-aedf-ae64a2723905",
   "metadata": {},
   "outputs": [
    {
     "data": {
      "text/plain": [
       "0.978"
      ]
     },
     "execution_count": 27,
     "metadata": {},
     "output_type": "execute_result"
    }
   ],
   "source": [
    "node_list = [784, 400, 200, 150, 100, 10]\n",
    "SDNN5 = General_ScratchDeepNeuralNetrowkClassifier(verbose=True, epoch=10, optimizer=AdaGrad, initializer=HeInitializer, activater=ReLU, n_nodes=node_list)\n",
    "SDNN5.fit(X_train, y_train_one_hot, X_val, y_test_one_hot)\n",
    "pred = SDNN5.predict(X_val)\n",
    "accuracy_score(y_val, pred)"
   ]
  },
  {
   "cell_type": "code",
   "execution_count": 28,
   "id": "046e86e6-ef43-448b-b7a7-5c07b0e24820",
   "metadata": {},
   "outputs": [
    {
     "data": {
      "image/png": "[encoded data removed]",
      "text/plain": [
       "<Figure size 640x480 with 1 Axes>"
      ]
     },
     "metadata": {},
     "output_type": "display_data"
    }
   ],
   "source": [
    "plt.plot(list(range(1, SDNN5.epoch+1)), SDNN5.loss_train, label='train')\n",
    "plt.plot(list(range(1, SDNN5.epoch+1)), SDNN5.loss_val, label='test')\n",
    "plt.legend()\n",
    "plt.xticks(list(range(1, SDNN5.epoch+1)));"
   ]
  }
 ],
 "metadata": {
  "kernelspec": {
   "display_name": "Python 3 (ipykernel)",
   "language": "python",
   "name": "python3"
  },
  "language_info": {
   "codemirror_mode": {
    "name": "ipython",
    "version": 3
   },
   "file_extension": ".py",
   "mimetype": "text/x-python",
   "name": "python",
   "nbconvert_exporter": "python",
   "pygments_lexer": "ipython3",
   "version": "3.8.10"
  },
  "widgets": {
   "application/vnd.jupyter.widget-state+json": {
    "state": {},
    "version_major": 2,
    "version_minor": 0
   }
  }
 },
 "nbformat": 4,
 "nbformat_minor": 5
}
