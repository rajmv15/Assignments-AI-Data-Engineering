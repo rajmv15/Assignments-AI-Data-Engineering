{
 "cells": [
  {
   "cell_type": "markdown",
   "id": "a95da26a-9d96-4235-a35d-0c8955e55a44",
   "metadata": {},
   "source": [
    "# Problem 1"
   ]
  },
  {
   "cell_type": "code",
   "execution_count": 54,
   "id": "be124854-566e-4f67-82bb-80fc6d798b06",
   "metadata": {},
   "outputs": [
    {
     "name": "stdout",
     "output_type": "stream",
     "text": [
      "Arrange wheat on a plate of 4 squares (list)：[1, 2, 4, 8, 16, 32, 64, 128, 256, 512, 1024, 2048, 4096, 8192, 16384, 32768]\n"
     ]
    }
   ],
   "source": [
    "n_squares = 16\n",
    "small_board_list = [1]\n",
    "for _ in range(n_squares - 1):\n",
    "    small_board_list.append(2 * small_board_list[-1])\n",
    "print(\"Arrange wheat on a plate of 4 squares (list)：{}\".format(small_board_list))"
   ]
  },
  {
   "cell_type": "code",
   "execution_count": 55,
   "id": "f1b660e5-2ffb-44db-8aa9-8cc7c26d7ad3",
   "metadata": {},
   "outputs": [
    {
     "name": "stdout",
     "output_type": "stream",
     "text": [
      "Arrange wheat on a plate of 4 squares (ndarray)：[    1     2     4     8    16    32    64   128   256   512  1024  2048\n",
      "  4096  8192 16384 32768]\n"
     ]
    }
   ],
   "source": [
    "import numpy as np\n",
    "\n",
    "small_board_ndarray = np.array(small_board_list)\n",
    "print(\"Arrange wheat on a plate of 4 squares (ndarray)：{}\".format(small_board_ndarray))"
   ]
  },
  {
   "cell_type": "code",
   "execution_count": 56,
   "id": "51d9a700-40dc-4da8-91c1-c81428370791",
   "metadata": {},
   "outputs": [
    {
     "data": {
      "text/plain": [
       "array([[    1,     2,     4,     8],\n",
       "       [   16,    32,    64,   128],\n",
       "       [  256,   512,  1024,  2048],\n",
       "       [ 4096,  8192, 16384, 32768]])"
      ]
     },
     "execution_count": 56,
     "metadata": {},
     "output_type": "execute_result"
    }
   ],
   "source": [
    "M4x4 = small_board_ndarray.reshape (4,4)\n",
    "M4x4"
   ]
  },
  {
   "cell_type": "code",
   "execution_count": 57,
   "id": "ec7cc20d-e715-4c09-87d1-54e7191463f2",
   "metadata": {},
   "outputs": [
    {
     "data": {
      "text/plain": [
       "array([[1, 2],\n",
       "       [4, 8]])"
      ]
     },
     "execution_count": 57,
     "metadata": {},
     "output_type": "execute_result"
    }
   ],
   "source": [
    "M2x2 = M4x4[:1]\n",
    "M2x2 = M2x2.reshape(2, 2)\n",
    "M2x2"
   ]
  },
  {
   "cell_type": "markdown",
   "id": "7abf5fa4-d250-458e-aeca-c52bd9884e18",
   "metadata": {},
   "source": [
    "# Problem 2\n"
   ]
  },
  {
   "cell_type": "code",
   "execution_count": 58,
   "id": "092d1030-2cc9-437f-ba49-38c29ad57d75",
   "metadata": {},
   "outputs": [
    {
     "data": {
      "text/plain": [
       "[1, 2, 4, 8, 16, 32, 64, 128, 256, 512, 1024, 2048, 4096, 8192, 16384, 32768]"
      ]
     },
     "execution_count": 58,
     "metadata": {},
     "output_type": "execute_result"
    }
   ],
   "source": [
    "\n",
    "def chessboard_size (n,m):\n",
    "    matrix = [1]\n",
    "    n_squares = n * m\n",
    "    for i in range(n_squares - 1):\n",
    "        matrix.append(2 * matrix[-1])\n",
    "\n",
    "    return matrix\n",
    "\n",
    "chessboard_size (4, 4)"
   ]
  },
  {
   "cell_type": "code",
   "execution_count": 59,
   "id": "7266d726-f261-4073-be59-a8b5bab61568",
   "metadata": {},
   "outputs": [
    {
     "data": {
      "text/plain": [
       "64"
      ]
     },
     "execution_count": 59,
     "metadata": {},
     "output_type": "execute_result"
    }
   ],
   "source": [
    "ns = 8*8\n",
    "mx = [1]\n",
    "for i in range(ns - 1):\n",
    "    mx.append(2 * mx[-1])\n",
    "    I = np.array(mx)\n",
    "len(I)"
   ]
  },
  {
   "cell_type": "code",
   "execution_count": 60,
   "id": "03121eea-4cb0-448f-8e57-f6b31691d3a5",
   "metadata": {},
   "outputs": [
    {
     "data": {
      "text/plain": [
       "[1,\n",
       " 2,\n",
       " 4,\n",
       " 8,\n",
       " 16,\n",
       " 32,\n",
       " 64,\n",
       " 128,\n",
       " 256,\n",
       " 512,\n",
       " 1024,\n",
       " 2048,\n",
       " 4096,\n",
       " 8192,\n",
       " 16384,\n",
       " 32768,\n",
       " 65536,\n",
       " 131072,\n",
       " 262144,\n",
       " 524288,\n",
       " 1048576,\n",
       " 2097152,\n",
       " 4194304,\n",
       " 8388608,\n",
       " 16777216,\n",
       " 33554432,\n",
       " 67108864,\n",
       " 134217728,\n",
       " 268435456,\n",
       " 536870912,\n",
       " 1073741824,\n",
       " 2147483648,\n",
       " 4294967296,\n",
       " 8589934592,\n",
       " 17179869184,\n",
       " 34359738368,\n",
       " 68719476736,\n",
       " 137438953472,\n",
       " 274877906944,\n",
       " 549755813888,\n",
       " 1099511627776,\n",
       " 2199023255552,\n",
       " 4398046511104,\n",
       " 8796093022208,\n",
       " 17592186044416,\n",
       " 35184372088832,\n",
       " 70368744177664,\n",
       " 140737488355328,\n",
       " 281474976710656,\n",
       " 562949953421312,\n",
       " 1125899906842624,\n",
       " 2251799813685248,\n",
       " 4503599627370496,\n",
       " 9007199254740992,\n",
       " 18014398509481984,\n",
       " 36028797018963968,\n",
       " 72057594037927936,\n",
       " 144115188075855872,\n",
       " 288230376151711744,\n",
       " 576460752303423488,\n",
       " 1152921504606846976,\n",
       " 2305843009213693952,\n",
       " 4611686018427387904,\n",
       " 9223372036854775808]"
      ]
     },
     "execution_count": 60,
     "metadata": {},
     "output_type": "execute_result"
    }
   ],
   "source": [
    "m8x8 = chessboard_size(8, 8)\n",
    "m8x8"
   ]
  },
  {
   "cell_type": "code",
   "execution_count": 61,
   "id": "2a85a77f-5320-4446-914a-c55244e76bd5",
   "metadata": {},
   "outputs": [
    {
     "data": {
      "text/plain": [
       "64"
      ]
     },
     "execution_count": 61,
     "metadata": {},
     "output_type": "execute_result"
    }
   ],
   "source": [
    "len(m8x8)"
   ]
  },
  {
   "cell_type": "code",
   "execution_count": 62,
   "id": "cc320d2e-a3fd-46a3-9683-f45dd6a72868",
   "metadata": {},
   "outputs": [
    {
     "data": {
      "text/plain": [
       "array([[1.00000000e+00, 2.00000000e+00, 4.00000000e+00, 8.00000000e+00,\n",
       "        1.60000000e+01, 3.20000000e+01, 6.40000000e+01, 1.28000000e+02],\n",
       "       [2.56000000e+02, 5.12000000e+02, 1.02400000e+03, 2.04800000e+03,\n",
       "        4.09600000e+03, 8.19200000e+03, 1.63840000e+04, 3.27680000e+04],\n",
       "       [6.55360000e+04, 1.31072000e+05, 2.62144000e+05, 5.24288000e+05,\n",
       "        1.04857600e+06, 2.09715200e+06, 4.19430400e+06, 8.38860800e+06],\n",
       "       [1.67772160e+07, 3.35544320e+07, 6.71088640e+07, 1.34217728e+08,\n",
       "        2.68435456e+08, 5.36870912e+08, 1.07374182e+09, 2.14748365e+09],\n",
       "       [4.29496730e+09, 8.58993459e+09, 1.71798692e+10, 3.43597384e+10,\n",
       "        6.87194767e+10, 1.37438953e+11, 2.74877907e+11, 5.49755814e+11],\n",
       "       [1.09951163e+12, 2.19902326e+12, 4.39804651e+12, 8.79609302e+12,\n",
       "        1.75921860e+13, 3.51843721e+13, 7.03687442e+13, 1.40737488e+14],\n",
       "       [2.81474977e+14, 5.62949953e+14, 1.12589991e+15, 2.25179981e+15,\n",
       "        4.50359963e+15, 9.00719925e+15, 1.80143985e+16, 3.60287970e+16],\n",
       "       [7.20575940e+16, 1.44115188e+17, 2.88230376e+17, 5.76460752e+17,\n",
       "        1.15292150e+18, 2.30584301e+18, 4.61168602e+18, 9.22337204e+18]])"
      ]
     },
     "execution_count": 62,
     "metadata": {},
     "output_type": "execute_result"
    }
   ],
   "source": [
    "M8x8 = np.array(m8x8)\n",
    "M8x8 = M8x8.reshape(8, 8)\n",
    "M8x8"
   ]
  },
  {
   "cell_type": "markdown",
   "id": "40037493-7485-4dc0-b2d9-41070f524937",
   "metadata": {},
   "source": [
    "# Problem 3\n"
   ]
  },
  {
   "cell_type": "code",
   "execution_count": 63,
   "id": "362b6e8d-53cb-417e-b78a-79842e37d463",
   "metadata": {},
   "outputs": [
    {
     "data": {
      "image/png": "[encoded data removed]",
      "text/plain": [
       "<Figure size 640x480 with 1 Axes>"
      ]
     },
     "metadata": {},
     "output_type": "display_data"
    }
   ],
   "source": [
    "import matplotlib.pyplot as plt\n",
    "%matplotlib inline\n",
    "\n",
    "plt.xlabel(\"Chessboard Square Number\")\n",
    "plt.ylabel(\"Number of Wheats\")\n",
    "plt.title(\"Wheat on each Chessboard Square\")\n",
    "plt.bar(np.arange(1,65), np.array(m8x8))\n",
    "plt.show()"
   ]
  },
  {
   "cell_type": "markdown",
   "id": "e7c3c155-bd41-4f62-a790-a9e2b6733bfe",
   "metadata": {},
   "source": [
    "# Problem 4\n"
   ]
  },
  {
   "cell_type": "code",
   "execution_count": 64,
   "id": "fac03aa3-6c0c-42a4-b691-9b934f28e9d8",
   "metadata": {},
   "outputs": [
    {
     "data": {
      "image/png": "[encoded data removed]",
      "text/plain": [
       "<Figure size 640x480 with 1 Axes>"
      ]
     },
     "metadata": {},
     "output_type": "display_data"
    }
   ],
   "source": [
    "plt.xlabel(\"column\")\n",
    "plt.ylabel(\"row\")\n",
    "plt.title(\"heatmap\")\n",
    "plt.pcolor(np.array(m8x8).reshape(8, 8))\n",
    "plt.show()"
   ]
  },
  {
   "cell_type": "code",
   "execution_count": 65,
   "id": "ed62a8fa-1515-4a4a-a4e2-a2aef8ebecce",
   "metadata": {},
   "outputs": [
    {
     "data": {
      "text/plain": [
       "array([[  1,   2],\n",
       "       [  4,   8],\n",
       "       [ 16,  32],\n",
       "       [ 64, 128]])"
      ]
     },
     "execution_count": 65,
     "metadata": {},
     "output_type": "execute_result"
    }
   ],
   "source": [
    "m4x2 = chessboard_size(4, 2)\n",
    "m4x2 = np.array(m4x2)\n",
    "M4x2 = m2x1.reshape(4, 2)\n",
    "M4x2"
   ]
  },
  {
   "cell_type": "code",
   "execution_count": 68,
   "id": "ddb8fb5d-0033-46c7-a792-5d6426664f9c",
   "metadata": {},
   "outputs": [
    {
     "data": {
      "image/png": "[encoded data removed]",
      "text/plain": [
       "<Figure size 640x480 with 1 Axes>"
      ]
     },
     "metadata": {},
     "output_type": "display_data"
    }
   ],
   "source": [
    "plt.xlabel(\"column\")\n",
    "plt.ylabel(\"row\")\n",
    "plt.title(\"heatmap\")\n",
    "plt.pcolor(m4x2.reshape(4, 2))\n",
    "plt.show()"
   ]
  },
  {
   "cell_type": "markdown",
   "id": "6ee1b172-dcb3-42d3-a1f6-1cf8cefdb1ae",
   "metadata": {},
   "source": [
    "# Problem 5"
   ]
  },
  {
   "cell_type": "code",
   "execution_count": 79,
   "id": "fbec48ac-b10b-4065-8c93-c3674354dba8",
   "metadata": {},
   "outputs": [
    {
     "name": "stdout",
     "output_type": "stream",
     "text": [
      "The second part of the 8x8 matrix is 1099511693056.004 times greater compared by the first part\n"
     ]
    }
   ],
   "source": [
    "#slicing the first part of Matrix 8x8\n",
    "firstPart = M8x8[0:3,] #from 0th to 3rd row\n",
    "secondPart = M8x8[4:,] #from 4th to 7th row\n",
    "\n",
    "a = np.sum(firstPart)\n",
    "b = np.sum(secondPart)\n",
    "\n",
    "#To check how big is the second part in relation to the first part, we will simply divide b/a to know how greater is the second part\n",
    "ratio = b/a\n",
    "print(f\"The second part of the 8x8 matrix is {ratio} times greater compared by the first part\")"
   ]
  },
  {
   "cell_type": "code",
   "execution_count": 87,
   "id": "e64bd87d-2f0e-4daa-9e42-6cb0a28d48e4",
   "metadata": {},
   "outputs": [
    {
     "name": "stdout",
     "output_type": "stream",
     "text": [
      "Arrange wheat on a plate of 4 squares (ndarray)：[1 2 4 8]\n"
     ]
    }
   ],
   "source": [
    "n_squares = 4\n",
    "indices_of_squares = np.arange(n_squares)\n",
    "small_board_ndarray = 2**indices_of_squares\n",
    "print(\"Arrange wheat on a plate of 4 squares (ndarray)：{}\".format(small_board_ndarray))"
   ]
  },
  {
   "cell_type": "code",
   "execution_count": 89,
   "id": "c5a60603-7f1e-417a-8f4d-72ca7fa9e8f0",
   "metadata": {},
   "outputs": [
    {
     "name": "stdout",
     "output_type": "stream",
     "text": [
      "Number of wheat in the last trout：9.223372036854776e+18\n"
     ]
    }
   ],
   "source": [
    "n_squares = 64\n",
    "board_ndarray = np.array([1], dtype=np.uint64)\n",
    "for _ in range(n_squares - 1):\n",
    "    board_ndarray = np.append(board_ndarray, 2 * board_ndarray[-1])\n",
    "print(\n",
    "    \"Number of wheat in the last trout：{}\".format(board_ndarray[-1])\n",
    ")  # -9223372036854775808\n"
   ]
  },
  {
   "cell_type": "markdown",
   "id": "ca5bfa0e-5aae-4c6a-8940-8832d7f5a55f",
   "metadata": {},
   "source": [
    "# Problem 6"
   ]
  },
  {
   "cell_type": "code",
   "execution_count": 95,
   "id": "d39fa135-9bf7-4979-bf41-a7ff42cf595a",
   "metadata": {},
   "outputs": [
    {
     "data": {
      "text/plain": [
       "array([1.00000000e+00, 2.00000000e+00, 4.00000000e+00, 8.00000000e+00,\n",
       "       1.60000000e+01, 3.20000000e+01, 6.40000000e+01, 1.28000000e+02,\n",
       "       2.56000000e+02, 5.12000000e+02, 1.02400000e+03, 2.04800000e+03,\n",
       "       4.09600000e+03, 8.19200000e+03, 1.63840000e+04, 3.27680000e+04,\n",
       "       6.55360000e+04, 1.31072000e+05, 2.62144000e+05, 5.24288000e+05,\n",
       "       1.04857600e+06, 2.09715200e+06, 4.19430400e+06, 8.38860800e+06,\n",
       "       1.67772160e+07, 3.35544320e+07, 6.71088640e+07, 1.34217728e+08,\n",
       "       2.68435456e+08, 5.36870912e+08, 1.07374182e+09, 2.14748365e+09,\n",
       "       4.29496730e+09, 8.58993459e+09, 1.71798692e+10, 3.43597384e+10,\n",
       "       6.87194767e+10, 1.37438953e+11, 2.74877907e+11, 5.49755814e+11,\n",
       "       1.09951163e+12, 2.19902326e+12, 4.39804651e+12, 8.79609302e+12,\n",
       "       1.75921860e+13, 3.51843721e+13, 7.03687442e+13, 1.40737488e+14,\n",
       "       2.81474977e+14, 5.62949953e+14, 1.12589991e+15, 2.25179981e+15,\n",
       "       4.50359963e+15, 9.00719925e+15, 1.80143985e+16, 3.60287970e+16,\n",
       "       7.20575940e+16, 1.44115188e+17, 2.88230376e+17, 5.76460752e+17,\n",
       "       1.15292150e+18, 2.30584301e+18, 4.61168602e+18, 9.22337204e+18])"
      ]
     },
     "execution_count": 95,
     "metadata": {},
     "output_type": "execute_result"
    }
   ],
   "source": [
    "def chessboardSize_ndarray (n,m):\n",
    "    matrix = np.array([1], dtype = np.uint64)\n",
    "    n_squares = n * m\n",
    "    for i in range(n_squares - 1):\n",
    "        matrix = np.append(matrix, 2 * matrix[-1])\n",
    "\n",
    "    return matrix\n",
    "\n",
    "M8x8_ndarray = np.array(chessboard_size (8, 8))\n",
    "M8x8_ndarray"
   ]
  },
  {
   "cell_type": "markdown",
   "id": "3bd510d1-b830-4c78-8971-e51ead2ede0c",
   "metadata": {},
   "source": [
    "# Problem 7"
   ]
  },
  {
   "cell_type": "code",
   "execution_count": 116,
   "id": "4b3938d6-6ab3-46ec-8df2-94f68f056534",
   "metadata": {},
   "outputs": [
    {
     "name": "stdout",
     "output_type": "stream",
     "text": [
      "3.43 µs ± 395 ns per loop (mean ± std. dev. of 7 runs, 100,000 loops each)\n"
     ]
    }
   ],
   "source": [
    "%%timeit\n",
    "a1 = np.array([1, 2, 3])\n",
    "b1 = np.array([1, 2, 3])\n",
    "c1 = a1 + b"
   ]
  },
  {
   "cell_type": "code",
   "execution_count": null,
   "id": "8610f187-02d5-4806-b129-7a83c78dea00",
   "metadata": {},
   "outputs": [],
   "source": []
  }
 ],
 "metadata": {
  "kernelspec": {
   "display_name": "Python 3 (ipykernel)",
   "language": "python",
   "name": "python3"
  },
  "language_info": {
   "codemirror_mode": {
    "name": "ipython",
    "version": 3
   },
   "file_extension": ".py",
   "mimetype": "text/x-python",
   "name": "python",
   "nbconvert_exporter": "python",
   "pygments_lexer": "ipython3",
   "version": "3.8.10"
  }
 },
 "nbformat": 4,
 "nbformat_minor": 5
}
