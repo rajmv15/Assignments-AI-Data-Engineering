{
 "cells": [
  {
   "cell_type": "code",
   "execution_count": 12,
   "id": "efc607e8-a1f1-4224-9345-d105b323866f",
   "metadata": {},
   "outputs": [
    {
     "name": "stdout",
     "output_type": "stream",
     "text": [
      "WARNING:tensorflow:From c:\\users\\user\\.pyenv\\pyenv-win\\versions\\3.8.10\\lib\\site-packages\\tensorflow\\python\\compat\\v2_compat.py:107: disable_resource_variables (from tensorflow.python.ops.variable_scope) is deprecated and will be removed in a future version.\n",
      "Instructions for updating:\n",
      "non-resource variables are not supported in the long term\n"
     ]
    }
   ],
   "source": [
    "import tensorflow as tf\n",
    "import tensorflow.compat.v1 as tf\n",
    "tf.disable_v2_behavior()"
   ]
  },
  {
   "cell_type": "code",
   "execution_count": 3,
   "id": "2f70afb1-6d9a-40e9-8406-353c145e193f",
   "metadata": {},
   "outputs": [
    {
     "name": "stdout",
     "output_type": "stream",
     "text": [
      "TensorFlow version: 2.13.0\n"
     ]
    }
   ],
   "source": [
    "print(\"TensorFlow version:\", tf.__version__)"
   ]
  },
  {
   "cell_type": "code",
   "execution_count": 4,
   "id": "11d4e46a-fa03-4037-9c1b-4f90180bc7a1",
   "metadata": {},
   "outputs": [],
   "source": [
    "mnist = tf.keras.datasets.mnist\n",
    "\n",
    "(x_train, y_train), (x_test, y_test) = mnist.load_data()\n",
    "x_train, x_test = x_train / 255.0, x_test / 255.0"
   ]
  },
  {
   "cell_type": "code",
   "execution_count": 5,
   "id": "cc293bf7-637b-4eb8-b347-dcee3d071966",
   "metadata": {},
   "outputs": [],
   "source": [
    "model = tf.keras.models.Sequential([\n",
    "  tf.keras.layers.Flatten(input_shape=(28, 28)),\n",
    "  tf.keras.layers.Dense(128, activation='relu'),\n",
    "  tf.keras.layers.Dropout(0.2),\n",
    "  tf.keras.layers.Dense(10)\n",
    "])"
   ]
  },
  {
   "cell_type": "code",
   "execution_count": 6,
   "id": "793b969e-8418-4610-a49e-129123f7ea13",
   "metadata": {},
   "outputs": [
    {
     "data": {
      "text/plain": [
       "array([[-0.27237752, -0.02045364,  0.38955078,  0.40792447,  0.42080888,\n",
       "        -0.42827398,  0.5705584 ,  0.03019771,  0.568125  ,  0.8850285 ]],\n",
       "      dtype=float32)"
      ]
     },
     "execution_count": 6,
     "metadata": {},
     "output_type": "execute_result"
    }
   ],
   "source": [
    "predictions = model(x_train[:1]).numpy()\n",
    "predictions"
   ]
  },
  {
   "cell_type": "markdown",
   "id": "e832e9d1-be67-43d7-a0b5-3e74ac87f301",
   "metadata": {},
   "source": [
    "---------------------------"
   ]
  },
  {
   "cell_type": "code",
   "execution_count": 7,
   "id": "5eec8547-0911-4dc2-ab40-9c06fade12b2",
   "metadata": {},
   "outputs": [],
   "source": [
    "import numpy as np\n",
    "import pandas as pd\n",
    "from sklearn.model_selection import train_test_split\n",
    "\n",
    "dataset_path =\"Iris.csv\"\n",
    "df = pd.read_csv(dataset_path)\n",
    "\n",
    "df = df[(df[\"Species\"] == \"Iris-versicolor\")|(df[\"Species\"] == \"Iris-virginica\")]\n",
    "y = df[\"Species\"]\n",
    "X = df.loc[:, [\"SepalLengthCm\", \"SepalWidthCm\", \"PetalLengthCm\", \"PetalWidthCm\"]]\n",
    "y = np.array(y)\n",
    "X = np.array(X)"
   ]
  },
  {
   "cell_type": "code",
   "execution_count": 9,
   "id": "5ed0f39c-c543-4fd5-9cb0-50066c8ae1a6",
   "metadata": {},
   "outputs": [],
   "source": [
    "y[y=='Iris-versicolor'] = 0\n",
    "y[y=='Iris-virginica'] = 1\n",
    "y = y.astype(int)[:, np.newaxis]\n",
    "\n",
    "X_train, X_test, y_train, y_test = train_test_split(X, y, test_size=0.2, random_state=0)\n",
    "\n",
    "X_train, X_val, y_train, y_val = train_test_split(X_train, y_train, test_size=0.2, random_state=0)"
   ]
  },
  {
   "cell_type": "code",
   "execution_count": 16,
   "id": "08034e87-ce5c-46bf-bdd8-ca08de481a9b",
   "metadata": {},
   "outputs": [],
   "source": [
    "class GetMiniBatch:\n",
    "\n",
    "    def __init__(self, X, y, batch_size = 10, seed=0):\n",
    "        self.batch_size = batch_size\n",
    "        np.random.seed(seed)\n",
    "        shuffle_index = np.random.permutation(np.arange(X.shape[0]))\n",
    "        self.X = X[shuffle_index]\n",
    "        self.y = y[shuffle_index]\n",
    "        self._stop = np.ceil(X.shape[0]/self.batch_size).astype(int)\n",
    "    def __len__(self):\n",
    "        return self._stop\n",
    "    def __getitem__(self,item):\n",
    "        p0 = item*self.batch_size\n",
    "        p1 = item*self.batch_size + self.batch_size\n",
    "        return self.X[p0:p1], self.y[p0:p1]        \n",
    "    def __iter__(self):\n",
    "        self._counter = 0\n",
    "        return self\n",
    "    def __next__(self):\n",
    "        if self._counter >= self._stop:\n",
    "            raise StopIteration()\n",
    "        p0 = self._counter*self.batch_size\n",
    "        p1 = self._counter*self.batch_size + self.batch_size\n",
    "        self._counter += 1\n",
    "        return self.X[p0:p1], self.y[p0:p1]\n"
   ]
  },
  {
   "cell_type": "code",
   "execution_count": 30,
   "id": "50524704-e543-411d-8c35-c3af1b3f0680",
   "metadata": {},
   "outputs": [],
   "source": [
    "learning_rate = 0.01\n",
    "batch_size = 10\n",
    "num_epochs = 20\n",
    "n_hidden1 = 50\n",
    "n_hidden2 = 100\n",
    "n_input = X_train.shape[1]\n",
    "n_samples = X_train.shape[0]\n",
    "n_classes = 1\n",
    "\n",
    "X = tf.placeholder(\"float\", [None, n_input])\n",
    "Y = tf.placeholder(\"float\", [None, n_classes])\n",
    "get_mini_batch_train = GetMiniBatch(X_train, y_train, batch_size=batch_size)"
   ]
  },
  {
   "cell_type": "code",
   "execution_count": 31,
   "id": "03e1384e-cce9-4a35-966d-d56017365e1e",
   "metadata": {},
   "outputs": [],
   "source": [
    "def example_net(x):\n",
    "\n",
    "    weights = {\n",
    "        'w1': tf.Variable(tf.random_normal([n_input, n_hidden1])),\n",
    "        'w2': tf.Variable(tf.random_normal([n_hidden1, n_hidden2])),\n",
    "        'w3': tf.Variable(tf.random_normal([n_hidden2, n_classes]))\n",
    "    }\n",
    "    biases = {\n",
    "        'b1': tf.Variable(tf.random_normal([n_hidden1])),\n",
    "        'b2': tf.Variable(tf.random_normal([n_hidden2])),\n",
    "        'b3': tf.Variable(tf.random_normal([n_classes]))\n",
    "    }\n",
    "    layer_1 = tf.add(tf.matmul(x, weights['w1']), biases['b1'])\n",
    "    layer_1 = tf.nn.relu(layer_1)\n",
    "    layer_2 = tf.add(tf.matmul(layer_1, weights['w2']), biases['b2'])\n",
    "    layer_2 = tf.nn.relu(layer_2)\n",
    "    layer_output = tf.matmul(layer_2, weights['w3']) + biases['b3'] \n",
    "    return layer_output"
   ]
  },
  {
   "cell_type": "code",
   "execution_count": 32,
   "id": "a12280fa-4395-4408-8ef4-51fead224967",
   "metadata": {},
   "outputs": [],
   "source": [
    "logits = example_net(X)\n",
    "\n",
    "loss_op = tf.reduce_mean(tf.nn.sigmoid_cross_entropy_with_logits(labels=Y, logits=logits))\n",
    "\n",
    "optimizer = tf.train.AdamOptimizer(learning_rate=learning_rate)\n",
    "train_op = optimizer.minimize(loss_op)\n",
    "\n",
    "correct_pred = tf.equal(tf.sign(Y - 0.5), tf.sign(tf.sigmoid(logits) - 0.5))\n",
    "\n",
    "accuracy = tf.reduce_mean(tf.cast(correct_pred, tf.float32))\n",
    "\n",
    "init = tf.global_variables_initializer()"
   ]
  },
  {
   "cell_type": "code",
   "execution_count": 33,
   "id": "693933b6-8f72-4165-940a-0e3303f64688",
   "metadata": {},
   "outputs": [
    {
     "name": "stdout",
     "output_type": "stream",
     "text": [
      "Epoch 0, loss : 22.8351, val_loss : 10.6542, acc : 0.250, val_acc : 0.688\n",
      "Epoch 1, loss : 0.0002, val_loss : 0.9955, acc : 1.000, val_acc : 0.812\n",
      "Epoch 2, loss : 0.0000, val_loss : 0.0001, acc : 1.000, val_acc : 1.000\n",
      "Epoch 3, loss : 0.0000, val_loss : 0.0456, acc : 1.000, val_acc : 0.938\n",
      "Epoch 4, loss : 0.0000, val_loss : 0.9618, acc : 1.000, val_acc : 0.938\n",
      "Epoch 5, loss : 0.0491, val_loss : 4.7628, acc : 1.000, val_acc : 0.625\n",
      "Epoch 6, loss : 0.0257, val_loss : 2.4850, acc : 1.000, val_acc : 0.875\n",
      "Epoch 7, loss : 0.2708, val_loss : 6.1056, acc : 0.750, val_acc : 0.562\n",
      "Epoch 8, loss : 0.6421, val_loss : 3.7173, acc : 0.750, val_acc : 0.812\n",
      "Epoch 9, loss : 0.9549, val_loss : 8.1938, acc : 0.750, val_acc : 0.562\n",
      "Epoch 10, loss : 0.9486, val_loss : 5.7564, acc : 0.750, val_acc : 0.688\n",
      "Epoch 11, loss : 5.6448, val_loss : 17.6805, acc : 0.750, val_acc : 0.438\n",
      "Epoch 12, loss : 8.6986, val_loss : 11.9103, acc : 0.500, val_acc : 0.688\n",
      "Epoch 13, loss : 12.6568, val_loss : 32.9323, acc : 0.750, val_acc : 0.375\n",
      "Epoch 14, loss : 2.1525, val_loss : 7.5275, acc : 0.750, val_acc : 0.688\n",
      "Epoch 15, loss : 1.2396, val_loss : 9.8469, acc : 0.750, val_acc : 0.562\n",
      "Epoch 16, loss : 0.0000, val_loss : 0.7725, acc : 1.000, val_acc : 0.938\n",
      "Epoch 17, loss : 0.0000, val_loss : 0.0001, acc : 1.000, val_acc : 1.000\n",
      "Epoch 18, loss : 0.0000, val_loss : 0.0000, acc : 1.000, val_acc : 1.000\n",
      "Epoch 19, loss : 0.0000, val_loss : 0.0451, acc : 1.000, val_acc : 0.938\n",
      "test_acc : 0.950\n"
     ]
    }
   ],
   "source": [
    "with tf.Session() as sess:\n",
    "    sess.run(init)\n",
    "    for epoch in range(num_epochs):\n",
    "        total_batch = np.ceil(X_train.shape[0]/batch_size).astype(int)\n",
    "        total_loss = 0\n",
    "        total_acc = 0\n",
    "        for i, (mini_batch_x, mini_batch_y) in enumerate(get_mini_batch_train):\n",
    "            sess.run(train_op, feed_dict={X: mini_batch_x, Y: mini_batch_y})\n",
    "            loss, acc = sess.run([loss_op, accuracy], feed_dict={X: mini_batch_x, Y: mini_batch_y})\n",
    "            total_loss += loss\n",
    "            total_acc += acc\n",
    "        total_loss /= n_samples\n",
    "        total_acc /= n_samples\n",
    "        val_loss, val_acc = sess.run([loss_op, accuracy], feed_dict={X: X_val, Y: y_val})\n",
    "        print(\"Epoch {}, loss : {:.4f}, val_loss : {:.4f}, acc : {:.3f}, val_acc : {:.3f}\".format(epoch, loss, val_loss, acc, val_acc))\n",
    "    test_acc = sess.run(accuracy, feed_dict={X: X_test, Y: y_test})\n",
    "    print(\"test_acc : {:.3f}\".format(test_acc))"
   ]
  },
  {
   "cell_type": "markdown",
   "id": "1338b6a1-13a9-41ea-b5be-6abe3faafe36",
   "metadata": {},
   "source": [
    "# Problem 3 Create a model of Iris using all three types of objective variables"
   ]
  },
  {
   "cell_type": "code",
   "execution_count": 36,
   "id": "64f7c8ff-b66c-47e5-967f-6f57e1883bc0",
   "metadata": {},
   "outputs": [
    {
     "name": "stderr",
     "output_type": "stream",
     "text": [
      "c:\\users\\user\\.pyenv\\pyenv-win\\versions\\3.8.10\\lib\\site-packages\\sklearn\\preprocessing\\_encoders.py:975: FutureWarning: `sparse` was renamed to `sparse_output` in version 1.2 and will be removed in 1.4. `sparse_output` is ignored unless you leave `sparse` to its default value.\n",
      "  warnings.warn(\n"
     ]
    }
   ],
   "source": [
    "dataset_path =\"Iris.csv\"\n",
    "df = pd.read_csv(dataset_path)\n",
    "\n",
    "y = df[\"Species\"]\n",
    "X = df.loc[:, [\"SepalLengthCm\", \"SepalWidthCm\", \"PetalLengthCm\", \"PetalWidthCm\"]]\n",
    "y = np.array(y)\n",
    "X = np.array(X)\n",
    "\n",
    "y[y=='Iris-setosa'] = 0\n",
    "y[y=='Iris-versicolor'] = 1\n",
    "y[y=='Iris-virginica'] = 2\n",
    "y = y.astype(int)[:, np.newaxis]\n",
    "\n",
    "X_train, X_test, y_train, y_test = train_test_split(X, y, test_size=0.2, random_state=0)\n",
    "\n",
    "X_train, X_val, y_train, y_val = train_test_split(X_train, y_train, test_size=0.2, random_state=0)\n",
    "\n",
    "from sklearn.preprocessing import OneHotEncoder\n",
    "enc = OneHotEncoder(handle_unknown='ignore', sparse=False)\n",
    "y_train_one_hot = enc.fit_transform(y_train)\n",
    "y_val_one_hot = enc.transform(y_val)\n",
    "y_test_one_hot = enc.transform(y_test)"
   ]
  },
  {
   "cell_type": "code",
   "execution_count": 39,
   "id": "009e43d2-6350-4463-9228-a340395c5a55",
   "metadata": {},
   "outputs": [],
   "source": [
    "class GetMiniBatch:\n",
    "\n",
    "    def __init__(self, X, y, batch_size = 10, seed=0):\n",
    "        self.batch_size = batch_size\n",
    "        np.random.seed(seed)\n",
    "        shuffle_index = np.random.permutation(np.arange(X.shape[0]))\n",
    "        self.X = X[shuffle_index]\n",
    "        self.y = y[shuffle_index]\n",
    "        self._stop = np.ceil(X.shape[0]/self.batch_size).astype(int)\n",
    "    def __len__(self):\n",
    "        return self._stop\n",
    "    def __getitem__(self,item):\n",
    "        p0 = item*self.batch_size\n",
    "        p1 = item*self.batch_size + self.batch_size\n",
    "        return self.X[p0:p1], self.y[p0:p1]        \n",
    "    def __iter__(self):\n",
    "        self._counter = 0\n",
    "        return self\n",
    "    def __next__(self):\n",
    "        if self._counter >= self._stop:\n",
    "            raise StopIteration()\n",
    "        p0 = self._counter*self.batch_size\n",
    "        p1 = self._counter*self.batch_size + self.batch_size\n",
    "        self._counter += 1\n",
    "        return self.X[p0:p1], self.y[p0:p1]"
   ]
  },
  {
   "cell_type": "code",
   "execution_count": 46,
   "id": "35a8fa33-8b9d-4c20-a755-411669c81064",
   "metadata": {},
   "outputs": [],
   "source": [
    "learning_rate = 0.01\n",
    "batch_size = 10\n",
    "num_epochs = 20\n",
    "n_hidden1 = 50\n",
    "n_hidden2 = 100\n",
    "n_input = X_train.shape[1]\n",
    "n_samples = X_train.shape[0]\n",
    "n_classes = 3\n",
    "\n",
    "X = tf.placeholder(\"float\", [None, n_input])\n",
    "Y = tf.placeholder(\"float\", [None, n_classes])\n",
    "\n",
    "get_mini_batch_train = GetMiniBatch(X_train, y_train_one_hot, batch_size=batch_size)"
   ]
  },
  {
   "cell_type": "code",
   "execution_count": 47,
   "id": "5bc92a3e-c86a-4b98-8cba-b50735ebe79e",
   "metadata": {},
   "outputs": [],
   "source": [
    "# Example model\n",
    "def example_net(x):\n",
    "    \n",
    "    weights = {\n",
    "        'w1': tf.Variable(tf.random_normal([n_input, n_hidden1])),\n",
    "        'w2': tf.Variable(tf.random_normal([n_hidden1, n_hidden2])),\n",
    "        'w3': tf.Variable(tf.random_normal([n_hidden2, n_classes]))\n",
    "    }\n",
    "    biases = {\n",
    "        'b1': tf.Variable(tf.random_normal([n_hidden1])),\n",
    "        'b2': tf.Variable(tf.random_normal([n_hidden2])),\n",
    "        'b3': tf.Variable(tf.random_normal([n_classes]))\n",
    "    }\n",
    "    layer_1 = tf.add(tf.matmul(x, weights['w1']), biases['b1'])\n",
    "    layer_1 = tf.nn.relu(layer_1)\n",
    "    layer_2 = tf.add(tf.matmul(layer_1, weights['w2']), biases['b2'])\n",
    "    layer_2 = tf.nn.relu(layer_2)\n",
    "    layer_output = tf.matmul(layer_2, weights['w3']) + biases['b3'] \n",
    "    return layer_output"
   ]
  },
  {
   "cell_type": "code",
   "execution_count": 48,
   "id": "e16c003f-6f33-4132-a2d2-ca93c41b6336",
   "metadata": {},
   "outputs": [],
   "source": [
    "logits = example_net(X)\n",
    "\n",
    "loss_op = tf.reduce_mean(tf.nn.softmax_cross_entropy_with_logits_v2(labels=Y, logits=logits))\n",
    "\n",
    "optimizer = tf.train.AdamOptimizer(learning_rate=learning_rate)\n",
    "train_op = optimizer.minimize(loss_op)\n",
    "\n",
    "correct_pred = tf.equal(tf.argmax(Y, 1), tf.argmax(logits, 1))\n",
    "\n",
    "accuracy = tf.reduce_mean(tf.cast(correct_pred, tf.float32))\n",
    "\n",
    "init = tf.global_variables_initializer()"
   ]
  },
  {
   "cell_type": "code",
   "execution_count": 49,
   "id": "7ffa61e5-46b4-4127-a5a5-7fe777dd8862",
   "metadata": {},
   "outputs": [
    {
     "name": "stdout",
     "output_type": "stream",
     "text": [
      "Epoch 0, loss : 17.6961, val_loss : 48.6653, acc : 0.833, val_acc : 0.625\n",
      "Epoch 1, loss : 29.0212, val_loss : 17.5401, acc : 0.333, val_acc : 0.708\n",
      "Epoch 2, loss : 3.5183, val_loss : 7.9948, acc : 0.500, val_acc : 0.708\n",
      "Epoch 3, loss : 0.0030, val_loss : 1.0426, acc : 1.000, val_acc : 0.833\n",
      "Epoch 4, loss : 0.1415, val_loss : 0.9889, acc : 0.833, val_acc : 0.833\n",
      "Epoch 5, loss : 0.0000, val_loss : 1.7262, acc : 1.000, val_acc : 0.917\n",
      "Epoch 6, loss : 0.0002, val_loss : 3.2590, acc : 1.000, val_acc : 0.917\n",
      "Epoch 7, loss : 0.0000, val_loss : 2.5020, acc : 1.000, val_acc : 0.917\n",
      "Epoch 8, loss : 0.0001, val_loss : 3.2982, acc : 1.000, val_acc : 0.917\n",
      "Epoch 9, loss : 0.0000, val_loss : 0.9580, acc : 1.000, val_acc : 0.875\n",
      "Epoch 10, loss : 0.0000, val_loss : 1.8284, acc : 1.000, val_acc : 0.917\n",
      "Epoch 11, loss : 0.0000, val_loss : 3.1145, acc : 1.000, val_acc : 0.917\n",
      "Epoch 12, loss : 0.0032, val_loss : 3.8050, acc : 1.000, val_acc : 0.917\n",
      "Epoch 13, loss : 0.0000, val_loss : 2.7898, acc : 1.000, val_acc : 0.792\n",
      "Epoch 14, loss : 0.0000, val_loss : 1.3625, acc : 1.000, val_acc : 0.833\n",
      "Epoch 15, loss : 0.0000, val_loss : 1.7283, acc : 1.000, val_acc : 0.833\n",
      "Epoch 16, loss : 0.0000, val_loss : 1.7211, acc : 1.000, val_acc : 0.917\n",
      "Epoch 17, loss : 0.0000, val_loss : 2.7110, acc : 1.000, val_acc : 0.917\n",
      "Epoch 18, loss : 0.1172, val_loss : 4.6591, acc : 0.833, val_acc : 0.875\n",
      "Epoch 19, loss : 0.0085, val_loss : 1.2870, acc : 1.000, val_acc : 0.875\n",
      "test_acc : 0.933\n"
     ]
    }
   ],
   "source": [
    "with tf.Session() as sess:\n",
    "    sess.run(init)\n",
    "    for epoch in range(num_epochs):\n",
    "        total_batch = np.ceil(X_train.shape[0]/batch_size).astype(int)\n",
    "        total_loss = 0\n",
    "        total_acc = 0\n",
    "        for i, (mini_batch_x, mini_batch_y) in enumerate(get_mini_batch_train):\n",
    "            sess.run(train_op, feed_dict={X: mini_batch_x, Y: mini_batch_y})\n",
    "            loss, acc = sess.run([loss_op, accuracy], feed_dict={X: mini_batch_x, Y: mini_batch_y})\n",
    "            total_loss += loss\n",
    "            total_acc += acc\n",
    "        total_loss /= n_samples\n",
    "        total_acc /= n_samples\n",
    "        val_loss, val_acc = sess.run([loss_op, accuracy], feed_dict={X: X_val, Y: y_val_one_hot})\n",
    "        print(\"Epoch {}, loss : {:.4f}, val_loss : {:.4f}, acc : {:.3f}, val_acc : {:.3f}\".format(epoch, loss, val_loss, acc, val_acc))\n",
    "    test_acc = sess.run(accuracy, feed_dict={X: X_test, Y: y_test_one_hot})\n",
    "    print(\"test_acc : {:.3f}\".format(test_acc))"
   ]
  },
  {
   "cell_type": "markdown",
   "id": "fdaa9371-cbfb-48d2-88d6-d90b8f5e6c29",
   "metadata": {},
   "source": [
    "# Problem 4 Create a model of House Prices"
   ]
  },
  {
   "cell_type": "code",
   "execution_count": 51,
   "id": "cad47438-1565-410f-b5e9-b755b2ba3cc7",
   "metadata": {},
   "outputs": [],
   "source": [
    "from sklearn.preprocessing import StandardScaler\n",
    "import matplotlib.pyplot as plt\n",
    "%matplotlib inline\n",
    "\n",
    "dataset_path =\"train.csv\"\n",
    "df = pd.read_csv(dataset_path)\n",
    "\n",
    "y = df[\"SalePrice\"]\n",
    "X = df.loc[:, [\"GrLivArea\", \"YearBuilt\"]]\n",
    "y = np.array(y)\n",
    "X = np.array(X)\n",
    "y = y.astype(int)[:, np.newaxis]\n",
    "y = np.log(y)\n",
    "\n",
    "X_train, X_test, y_train, y_test = train_test_split(X, y, test_size=0.2, random_state=0)\n",
    "\n",
    "X_train, X_val, y_train, y_val = train_test_split(X_train, y_train, test_size=0.2, random_state=0)\n"
   ]
  },
  {
   "cell_type": "code",
   "execution_count": 55,
   "id": "b5279cb3-97fb-4a3d-9bd1-db505e94feb0",
   "metadata": {},
   "outputs": [],
   "source": [
    "class GetMiniBatch:\n",
    "\n",
    "    def __init__(self, X, y, batch_size = 10, seed=0):\n",
    "        self.batch_size = batch_size\n",
    "        np.random.seed(seed)\n",
    "        shuffle_index = np.random.permutation(np.arange(X.shape[0]))\n",
    "        self.X = X[shuffle_index]\n",
    "        self.y = y[shuffle_index]\n",
    "        self._stop = np.ceil(X.shape[0]/self.batch_size).astype(\n",
    "            int)\n",
    "    def __len__(self):\n",
    "        return self._stop\n",
    "    def __getitem__(self,item):\n",
    "        p0 = item*self.batch_size\n",
    "        p1 = item*self.batch_size + self.batch_size\n",
    "        return self.X[p0:p1], self.y[p0:p1]        \n",
    "    def __iter__(self):\n",
    "        self._counter = 0\n",
    "        return self\n",
    "    def __next__(self):\n",
    "        if self._counter >= self._stop:\n",
    "            raise StopIteration()\n",
    "        p0 = self._counter*self.batch_size\n",
    "        p1 = self._counter*self.batch_size + self.batch_size\n",
    "        self._counter += 1\n",
    "        return self.X[p0:p1], self.y[p0:p1]"
   ]
  },
  {
   "cell_type": "code",
   "execution_count": 76,
   "id": "55add16a-1d20-4641-a57e-2e239ef16f03",
   "metadata": {},
   "outputs": [],
   "source": [
    "learning_rate = 0.01\n",
    "batch_size = 10\n",
    "num_epochs = 20\n",
    "\n",
    "n_hidden1 = 50\n",
    "n_hidden2 = 100\n",
    "n_input = X_train.shape[1]\n",
    "n_samples = X_train.shape[0]\n",
    "n_classes = 1\n",
    "\n",
    "X = tf.placeholder(\"float\", [None, n_input])\n",
    "Y = tf.placeholder(\"float\", [None, n_classes])\n",
    "\n",
    "get_mini_batch_train = GetMiniBatch(X_train, y_train, batch_size=batch_size)"
   ]
  },
  {
   "cell_type": "code",
   "execution_count": 77,
   "id": "b88b394a-b4ea-4214-ab71-b60f8939dc64",
   "metadata": {},
   "outputs": [],
   "source": [
    "def example_net(x):\n",
    "    \n",
    "    weights = {\n",
    "        'w1': tf.Variable(tf.random_normal([n_input, n_hidden1])),\n",
    "        'w2': tf.Variable(tf.random_normal([n_hidden1, n_hidden2])),\n",
    "        'w3': tf.Variable(tf.random_normal([n_hidden2, n_classes]))\n",
    "    }\n",
    "    biases = {\n",
    "        'b1': tf.Variable(tf.random_normal([n_hidden1])),\n",
    "        'b2': tf.Variable(tf.random_normal([n_hidden2])),\n",
    "        'b3': tf.Variable(tf.random_normal([n_classes]))\n",
    "    }\n",
    "\n",
    "    layer_1 = tf.add(tf.matmul(x, weights['w1']), biases['b1'])\n",
    "    layer_1 = tf.nn.relu(layer_1)\n",
    "    layer_2 = tf.add(tf.matmul(layer_1, weights['w2']), biases['b2'])\n",
    "    layer_2 = tf.nn.relu(layer_2)\n",
    "    layer_output = tf.matmul(layer_2, weights['w3']) + biases['b3'] \n",
    "    return layer_output"
   ]
  },
  {
   "cell_type": "code",
   "execution_count": 78,
   "id": "2f948675-f1cc-471c-af10-e4a8e0081339",
   "metadata": {},
   "outputs": [],
   "source": [
    "logits = example_net(X)\n",
    "loss_op =  tf.losses.mean_squared_error(labels=Y, predictions=logits)\n",
    "optimizer = tf.train.AdamOptimizer(learning_rate=learning_rate)\n",
    "train_op = optimizer.minimize(loss_op)\n",
    "y_pred = logits\n",
    "\n",
    "init = tf.global_variables_initializer()"
   ]
  },
  {
   "cell_type": "code",
   "execution_count": 79,
   "id": "80156d8a-739b-40d6-8112-d361b76c6ba9",
   "metadata": {},
   "outputs": [
    {
     "name": "stdout",
     "output_type": "stream",
     "text": [
      "Epoch 0, loss : 1067652.3750, val_loss : 803026.3125\n",
      "Epoch 1, loss : 274582.3438, val_loss : 263146.7812\n",
      "Epoch 2, loss : 82898.9375, val_loss : 74869.4219\n",
      "Epoch 3, loss : 54122.6055, val_loss : 53941.6680\n",
      "Epoch 4, loss : 24332.4863, val_loss : 25348.6445\n",
      "Epoch 5, loss : 13004.5195, val_loss : 14024.5479\n",
      "Epoch 6, loss : 9600.2559, val_loss : 10375.3438\n",
      "Epoch 7, loss : 7472.3154, val_loss : 8147.8447\n",
      "Epoch 8, loss : 6299.7495, val_loss : 6959.1953\n",
      "Epoch 9, loss : 5293.0464, val_loss : 5974.7603\n",
      "Epoch 10, loss : 4236.9375, val_loss : 4922.3755\n",
      "Epoch 11, loss : 3687.0476, val_loss : 4332.8037\n",
      "Epoch 12, loss : 4122.5176, val_loss : 4685.4053\n",
      "Epoch 13, loss : 4988.7856, val_loss : 5535.5566\n",
      "Epoch 14, loss : 8212.9346, val_loss : 8716.5234\n",
      "Epoch 15, loss : 9953.0488, val_loss : 10290.3398\n",
      "Epoch 16, loss : 7217.8237, val_loss : 7467.3281\n",
      "Epoch 17, loss : 4726.6982, val_loss : 4971.3086\n",
      "Epoch 18, loss : 3254.9104, val_loss : 3432.6978\n",
      "Epoch 19, loss : 2417.7007, val_loss : 2557.8892\n",
      "test_mse : 2417.701\n"
     ]
    },
    {
     "data": {
      "image/png": "[encoded data removed]",
      "text/plain": [
       "<Figure size 640x480 with 1 Axes>"
      ]
     },
     "metadata": {},
     "output_type": "display_data"
    }
   ],
   "source": [
    "with tf.Session() as sess:\n",
    "    sess.run(init)\n",
    "    loss_list = []\n",
    "    val_loss_list = []\n",
    "    for epoch in range(num_epochs):\n",
    "        for i, (mini_batch_x, mini_batch_y) in enumerate(get_mini_batch_train):\n",
    "            sess.run(train_op, feed_dict={X: mini_batch_x, Y: mini_batch_y})\n",
    "        loss = sess.run(loss_op, feed_dict={X: X_train, Y: y_train})\n",
    "        loss_list.append(loss)\n",
    "        val_loss = sess.run(loss_op, feed_dict={X: X_val, Y: y_val})\n",
    "        val_loss_list.append(val_loss)    \n",
    "        print(\"Epoch {}, loss : {:.4f}, val_loss : {:.4f}\".format(epoch, loss, val_loss))\n",
    "    print(\"test_mse : {:.3f}\".format(loss))\n",
    "    plt.xlabel('epoch')\n",
    "    plt.ylabel('loss')\n",
    "    plt.plot(loss_list, label='loss')\n",
    "    plt.plot(val_loss_list, label='val_loss')\n",
    "    plt.legend()\n",
    "    plt.show()"
   ]
  },
  {
   "cell_type": "markdown",
   "id": "be145df9-f96b-4f8f-86c3-996a1d21260f",
   "metadata": {},
   "source": [
    "# Problem 5 Create a model of MNIST"
   ]
  },
  {
   "cell_type": "code",
   "execution_count": 85,
   "id": "35dcb34c-9668-489a-8353-7c8461434dd2",
   "metadata": {},
   "outputs": [
    {
     "name": "stderr",
     "output_type": "stream",
     "text": [
      "c:\\users\\user\\.pyenv\\pyenv-win\\versions\\3.8.10\\lib\\site-packages\\sklearn\\preprocessing\\_encoders.py:975: FutureWarning: `sparse` was renamed to `sparse_output` in version 1.2 and will be removed in 1.4. `sparse_output` is ignored unless you leave `sparse` to its default value.\n",
      "  warnings.warn(\n",
      "c:\\users\\user\\.pyenv\\pyenv-win\\versions\\3.8.10\\lib\\site-packages\\sklearn\\preprocessing\\_encoders.py:975: FutureWarning: `sparse` was renamed to `sparse_output` in version 1.2 and will be removed in 1.4. `sparse_output` is ignored unless you leave `sparse` to its default value.\n",
      "  warnings.warn(\n"
     ]
    }
   ],
   "source": [
    "from keras.datasets import mnist\n",
    "\n",
    "(X_train, y_train), (X_test, y_test) = mnist.load_data()\n",
    "X_train = X_train.reshape(-1, 784)\n",
    "X_test = X_test.reshape(-1, 784)\n",
    "\n",
    "X_train = X_train.astype(float)\n",
    "X_test = X_test.astype(float)\n",
    "X_train /= 255\n",
    "X_test /= 255\n",
    "\n",
    "y_train = y_train.astype(int)[:, np.newaxis]\n",
    "y_test = y_test.astype(int)[:, np.newaxis]\n",
    "\n",
    "enc = OneHotEncoder(handle_unknown='ignore', sparse=False)\n",
    "y_train_one_hot = enc.fit_transform(y_train[:])\n",
    "y_test_one_hot = enc.fit_transform(y_test[:])\n",
    "\n",
    "X_train, X_val, y_train, y_val = train_test_split(X_train, y_train_one_hot, test_size=0.2)"
   ]
  },
  {
   "cell_type": "code",
   "execution_count": 86,
   "id": "2a8938e2-f9c3-4f41-95a7-94ab14142b83",
   "metadata": {},
   "outputs": [],
   "source": [
    "class GetMiniBatch:\n",
    "\n",
    "    def __init__(self, X, y, batch_size = 10, seed=0):\n",
    "        self.batch_size = batch_size\n",
    "        np.random.seed(seed)\n",
    "        shuffle_index = np.random.permutation(np.arange(X.shape[0]))\n",
    "        self.X = X[shuffle_index]\n",
    "        self.y = y[shuffle_index]\n",
    "        self._stop = np.ceil(X.shape[0]/self.batch_size).astype(int)\n",
    "    def __len__(self):\n",
    "        return self._stop\n",
    "    def __getitem__(self,item):\n",
    "        p0 = item*self.batch_size\n",
    "        p1 = item*self.batch_size + self.batch_size\n",
    "        return self.X[p0:p1], self.y[p0:p1]        \n",
    "    def __iter__(self):\n",
    "        self._counter = 0\n",
    "        return self\n",
    "    def __next__(self):\n",
    "        if self._counter >= self._stop:\n",
    "            raise StopIteration()\n",
    "        p0 = self._counter*self.batch_size\n",
    "        p1 = self._counter*self.batch_size + self.batch_size\n",
    "        self._counter += 1\n",
    "        return self.X[p0:p1], self.y[p0:p1]"
   ]
  },
  {
   "cell_type": "code",
   "execution_count": 92,
   "id": "9f0d5d4b-c0d4-45b4-8b8c-57fa960a4c89",
   "metadata": {},
   "outputs": [],
   "source": [
    "learning_rate = 0.01\n",
    "batch_size = 10\n",
    "num_epochs = 100\n",
    "\n",
    "n_hidden1 = 50\n",
    "n_hidden2 = 100\n",
    "n_input = X_train.shape[1]\n",
    "n_samples = X_train.shape[0]\n",
    "n_classes = 10\n",
    "\n",
    "X = tf.placeholder(\"float\", [None, n_input])\n",
    "Y = tf.placeholder(\"float\", [None, n_classes])\n",
    "\n",
    "get_mini_batch_train = GetMiniBatch(X_train, y_train, batch_size=batch_size)"
   ]
  },
  {
   "cell_type": "code",
   "execution_count": 93,
   "id": "b4ebd333-4d07-41d7-8469-584b3497eb1d",
   "metadata": {},
   "outputs": [],
   "source": [
    "def example_net(x):\n",
    "\n",
    "    weights = {\n",
    "        'w1': tf.Variable(tf.random_normal([n_input, n_hidden1])),\n",
    "        'w2': tf.Variable(tf.random_normal([n_hidden1, n_hidden2])),\n",
    "        'w3': tf.Variable(tf.random_normal([n_hidden2, n_classes]))\n",
    "    }\n",
    "    biases = {\n",
    "        'b1': tf.Variable(tf.random_normal([n_hidden1])),\n",
    "        'b2': tf.Variable(tf.random_normal([n_hidden2])),\n",
    "        'b3': tf.Variable(tf.random_normal([n_classes]))\n",
    "    }\n",
    "\n",
    "    layer_1 = tf.add(tf.matmul(x, weights['w1']), biases['b1'])\n",
    "    layer_1 = tf.nn.relu(layer_1)\n",
    "    layer_2 = tf.add(tf.matmul(layer_1, weights['w2']), biases['b2'])\n",
    "    layer_2 = tf.nn.relu(layer_2)\n",
    "    layer_output = tf.matmul(layer_2, weights['w3']) + biases['b3'] \n",
    "    return layer_output"
   ]
  },
  {
   "cell_type": "code",
   "execution_count": 94,
   "id": "b2234567-aa78-4681-851f-b928a13f1796",
   "metadata": {},
   "outputs": [],
   "source": [
    "logits = example_net(X)\n",
    "loss_op = tf.reduce_mean(tf.nn.softmax_cross_entropy_with_logits_v2(labels=Y, logits=logits))\n",
    "optimizer = tf.train.AdamOptimizer(learning_rate=learning_rate)\n",
    "train_op = optimizer.minimize(loss_op)\n",
    "max_Y = (tf.argmax(Y, 1))\n",
    "max_Y_pred = tf.argmax(logits, 1)\n",
    "correct_pred = tf.equal(tf.argmax(Y, 1), tf.argmax(logits, 1))\n",
    "accuracy = tf.reduce_mean(tf.cast(correct_pred, tf.float32))\n",
    "init = tf.global_variables_initializer()"
   ]
  },
  {
   "cell_type": "code",
   "execution_count": 95,
   "id": "2053835b-6d1e-4164-88db-83a7e2c6592b",
   "metadata": {},
   "outputs": [
    {
     "name": "stdout",
     "output_type": "stream",
     "text": [
      "Epoch 0, loss : 1.1511, val_loss : 1.1278, acc : 0.600, val_acc : 0.671\n",
      "Epoch 1, loss : 1.4597, val_loss : 0.8258, acc : 0.600, val_acc : 0.782\n",
      "Epoch 2, loss : 0.3335, val_loss : 0.4816, acc : 0.900, val_acc : 0.886\n",
      "Epoch 3, loss : 0.1832, val_loss : 0.4075, acc : 0.900, val_acc : 0.902\n",
      "Epoch 4, loss : 0.4556, val_loss : 0.3471, acc : 0.900, val_acc : 0.914\n",
      "Epoch 5, loss : 0.4113, val_loss : 0.3767, acc : 0.900, val_acc : 0.920\n",
      "Epoch 6, loss : 0.4382, val_loss : 0.3942, acc : 0.900, val_acc : 0.917\n",
      "Epoch 7, loss : 0.3898, val_loss : 0.3780, acc : 0.900, val_acc : 0.927\n",
      "Epoch 8, loss : 0.3222, val_loss : 0.3692, acc : 0.900, val_acc : 0.925\n",
      "Epoch 9, loss : 0.2967, val_loss : 0.4096, acc : 0.900, val_acc : 0.915\n",
      "Epoch 10, loss : 0.0985, val_loss : 0.3743, acc : 1.000, val_acc : 0.920\n",
      "Epoch 11, loss : 0.0719, val_loss : 0.3817, acc : 1.000, val_acc : 0.923\n",
      "Epoch 12, loss : 0.0830, val_loss : 0.4286, acc : 1.000, val_acc : 0.919\n",
      "Epoch 13, loss : 0.0377, val_loss : 0.3495, acc : 1.000, val_acc : 0.924\n",
      "Epoch 14, loss : 0.3133, val_loss : 0.3929, acc : 0.900, val_acc : 0.917\n",
      "Epoch 15, loss : 0.1704, val_loss : 0.4188, acc : 0.900, val_acc : 0.915\n",
      "Epoch 16, loss : 0.1006, val_loss : 0.3816, acc : 1.000, val_acc : 0.923\n",
      "Epoch 17, loss : 0.0828, val_loss : 0.4924, acc : 1.000, val_acc : 0.924\n",
      "Epoch 18, loss : 0.0749, val_loss : 0.3793, acc : 1.000, val_acc : 0.927\n",
      "Epoch 19, loss : 0.0498, val_loss : 0.3530, acc : 1.000, val_acc : 0.927\n",
      "Epoch 20, loss : 0.1147, val_loss : 0.3921, acc : 1.000, val_acc : 0.923\n",
      "Epoch 21, loss : 0.0376, val_loss : 0.4226, acc : 1.000, val_acc : 0.925\n",
      "Epoch 22, loss : 0.0854, val_loss : 0.4124, acc : 1.000, val_acc : 0.928\n",
      "Epoch 23, loss : 0.1498, val_loss : 0.4477, acc : 1.000, val_acc : 0.922\n",
      "Epoch 24, loss : 0.0637, val_loss : 0.4193, acc : 1.000, val_acc : 0.925\n",
      "Epoch 25, loss : 0.1347, val_loss : 0.4334, acc : 0.900, val_acc : 0.921\n",
      "Epoch 26, loss : 0.0348, val_loss : 0.4885, acc : 1.000, val_acc : 0.924\n",
      "Epoch 27, loss : 0.0837, val_loss : 0.5995, acc : 1.000, val_acc : 0.925\n",
      "Epoch 28, loss : 0.0403, val_loss : 0.5460, acc : 1.000, val_acc : 0.926\n",
      "Epoch 29, loss : 0.1072, val_loss : 0.6130, acc : 0.900, val_acc : 0.923\n",
      "Epoch 30, loss : 0.0355, val_loss : 0.5157, acc : 1.000, val_acc : 0.928\n",
      "Epoch 31, loss : 0.0764, val_loss : 0.4624, acc : 1.000, val_acc : 0.925\n",
      "Epoch 32, loss : 0.1503, val_loss : 0.6563, acc : 0.900, val_acc : 0.917\n",
      "Epoch 33, loss : 0.0858, val_loss : 0.5947, acc : 1.000, val_acc : 0.919\n",
      "Epoch 34, loss : 0.0568, val_loss : 0.5660, acc : 1.000, val_acc : 0.925\n",
      "Epoch 35, loss : 0.0347, val_loss : 1.0023, acc : 1.000, val_acc : 0.923\n",
      "Epoch 36, loss : 0.0622, val_loss : 0.5523, acc : 1.000, val_acc : 0.919\n",
      "Epoch 37, loss : 0.0460, val_loss : 0.5602, acc : 1.000, val_acc : 0.924\n",
      "Epoch 38, loss : 0.0752, val_loss : 0.6056, acc : 1.000, val_acc : 0.930\n",
      "Epoch 39, loss : 0.0568, val_loss : 0.7124, acc : 1.000, val_acc : 0.921\n",
      "Epoch 40, loss : 0.0397, val_loss : 0.6094, acc : 1.000, val_acc : 0.925\n",
      "Epoch 41, loss : 0.1604, val_loss : 0.8930, acc : 1.000, val_acc : 0.925\n",
      "Epoch 42, loss : 0.0518, val_loss : 0.6313, acc : 1.000, val_acc : 0.927\n",
      "Epoch 43, loss : 0.0260, val_loss : 0.7337, acc : 1.000, val_acc : 0.926\n",
      "Epoch 44, loss : 0.0623, val_loss : 0.6783, acc : 1.000, val_acc : 0.921\n",
      "Epoch 45, loss : 0.5135, val_loss : 0.6769, acc : 0.900, val_acc : 0.922\n",
      "Epoch 46, loss : 0.2084, val_loss : 0.7873, acc : 0.900, val_acc : 0.918\n",
      "Epoch 47, loss : 0.1825, val_loss : 0.5505, acc : 0.900, val_acc : 0.922\n",
      "Epoch 48, loss : 0.5412, val_loss : 0.6923, acc : 0.800, val_acc : 0.921\n",
      "Epoch 49, loss : 0.2370, val_loss : 0.6359, acc : 0.900, val_acc : 0.923\n",
      "Epoch 50, loss : 0.0264, val_loss : 0.6938, acc : 1.000, val_acc : 0.929\n",
      "Epoch 51, loss : 0.1298, val_loss : 0.6417, acc : 0.900, val_acc : 0.928\n",
      "Epoch 52, loss : 0.1215, val_loss : 0.5622, acc : 1.000, val_acc : 0.926\n",
      "Epoch 53, loss : 0.0794, val_loss : 0.6634, acc : 1.000, val_acc : 0.925\n",
      "Epoch 54, loss : 0.0789, val_loss : 0.5780, acc : 1.000, val_acc : 0.927\n",
      "Epoch 55, loss : 0.0761, val_loss : 1.1324, acc : 1.000, val_acc : 0.920\n",
      "Epoch 56, loss : 0.0263, val_loss : 0.7486, acc : 1.000, val_acc : 0.924\n",
      "Epoch 57, loss : 0.0262, val_loss : 0.7880, acc : 1.000, val_acc : 0.928\n",
      "Epoch 58, loss : 0.1216, val_loss : 0.7302, acc : 1.000, val_acc : 0.924\n",
      "Epoch 59, loss : 0.0197, val_loss : 0.8742, acc : 1.000, val_acc : 0.926\n",
      "Epoch 60, loss : 0.0290, val_loss : 0.7913, acc : 1.000, val_acc : 0.922\n",
      "Epoch 61, loss : 0.0466, val_loss : 0.9086, acc : 1.000, val_acc : 0.924\n",
      "Epoch 62, loss : 0.0790, val_loss : 0.9630, acc : 1.000, val_acc : 0.921\n",
      "Epoch 63, loss : 0.1094, val_loss : 0.8620, acc : 1.000, val_acc : 0.920\n",
      "Epoch 64, loss : 0.0703, val_loss : 1.0269, acc : 1.000, val_acc : 0.926\n",
      "Epoch 65, loss : 0.0472, val_loss : 0.7973, acc : 1.000, val_acc : 0.925\n",
      "Epoch 66, loss : 0.0548, val_loss : 1.0705, acc : 1.000, val_acc : 0.925\n",
      "Epoch 67, loss : 0.0377, val_loss : 0.8870, acc : 1.000, val_acc : 0.924\n",
      "Epoch 68, loss : 0.1157, val_loss : 0.9420, acc : 1.000, val_acc : 0.920\n",
      "Epoch 69, loss : 0.0940, val_loss : 1.0285, acc : 1.000, val_acc : 0.922\n",
      "Epoch 70, loss : 0.0466, val_loss : 0.9014, acc : 1.000, val_acc : 0.924\n",
      "Epoch 71, loss : 0.0458, val_loss : 0.9333, acc : 1.000, val_acc : 0.919\n",
      "Epoch 72, loss : 0.0661, val_loss : 0.7829, acc : 1.000, val_acc : 0.919\n",
      "Epoch 73, loss : 0.0406, val_loss : 0.9919, acc : 1.000, val_acc : 0.920\n",
      "Epoch 74, loss : 0.0302, val_loss : 0.8889, acc : 1.000, val_acc : 0.922\n",
      "Epoch 75, loss : 0.0371, val_loss : 0.8941, acc : 1.000, val_acc : 0.923\n",
      "Epoch 76, loss : 0.1001, val_loss : 0.7947, acc : 1.000, val_acc : 0.922\n",
      "Epoch 77, loss : 0.0252, val_loss : 1.0340, acc : 1.000, val_acc : 0.926\n",
      "Epoch 78, loss : 0.0895, val_loss : 0.8670, acc : 1.000, val_acc : 0.924\n",
      "Epoch 79, loss : 0.0441, val_loss : 0.8358, acc : 1.000, val_acc : 0.921\n",
      "Epoch 80, loss : 0.0240, val_loss : 0.9462, acc : 1.000, val_acc : 0.925\n",
      "Epoch 81, loss : 0.0564, val_loss : 1.0172, acc : 1.000, val_acc : 0.922\n",
      "Epoch 82, loss : 0.0345, val_loss : 1.0905, acc : 1.000, val_acc : 0.921\n",
      "Epoch 83, loss : 0.1191, val_loss : 1.3536, acc : 0.900, val_acc : 0.921\n",
      "Epoch 84, loss : 0.0400, val_loss : 1.1212, acc : 1.000, val_acc : 0.924\n",
      "Epoch 85, loss : 0.0448, val_loss : 1.0863, acc : 1.000, val_acc : 0.923\n",
      "Epoch 86, loss : 0.0643, val_loss : 1.4507, acc : 1.000, val_acc : 0.930\n",
      "Epoch 87, loss : 0.1070, val_loss : 1.0410, acc : 1.000, val_acc : 0.921\n",
      "Epoch 88, loss : 0.0557, val_loss : 1.2209, acc : 1.000, val_acc : 0.922\n",
      "Epoch 89, loss : 0.0663, val_loss : 1.1420, acc : 1.000, val_acc : 0.923\n",
      "Epoch 90, loss : 0.0617, val_loss : 1.4335, acc : 1.000, val_acc : 0.920\n",
      "Epoch 91, loss : 0.0293, val_loss : 1.4694, acc : 1.000, val_acc : 0.926\n",
      "Epoch 92, loss : 0.0442, val_loss : 1.5044, acc : 1.000, val_acc : 0.925\n",
      "Epoch 93, loss : 0.0449, val_loss : 1.4345, acc : 1.000, val_acc : 0.920\n",
      "Epoch 94, loss : 0.1575, val_loss : 1.6860, acc : 0.900, val_acc : 0.904\n",
      "Epoch 95, loss : 0.0711, val_loss : 1.2603, acc : 1.000, val_acc : 0.928\n",
      "Epoch 96, loss : 0.0229, val_loss : 1.5561, acc : 1.000, val_acc : 0.926\n",
      "Epoch 97, loss : 0.0208, val_loss : 1.6999, acc : 1.000, val_acc : 0.922\n",
      "Epoch 98, loss : 0.0408, val_loss : 1.2133, acc : 1.000, val_acc : 0.922\n",
      "Epoch 99, loss : 0.0504, val_loss : 1.5194, acc : 1.000, val_acc : 0.919\n",
      "test_acc : 0.916\n"
     ]
    },
    {
     "data": {
      "image/png": "[encoded data removed]",
      "text/plain": [
       "<Figure size 640x480 with 1 Axes>"
      ]
     },
     "metadata": {},
     "output_type": "display_data"
    }
   ],
   "source": [
    "with tf.Session() as sess:\n",
    "    sess.run(init)\n",
    "    for epoch in range(num_epochs):\n",
    "        total_batch = np.ceil(X_train.shape[0]/batch_size).astype(int)\n",
    "        total_loss = 0\n",
    "        total_acc = 0\n",
    "        for i, (mini_batch_x, mini_batch_y) in enumerate(get_mini_batch_train):\n",
    "            sess.run(train_op, feed_dict={X: mini_batch_x, Y: mini_batch_y})\n",
    "            loss, acc = sess.run([loss_op, accuracy], feed_dict={X: mini_batch_x, Y: mini_batch_y})\n",
    "            total_loss += loss\n",
    "            total_acc += acc\n",
    "        total_loss /= n_samples\n",
    "        total_acc /= n_samples\n",
    "        val_loss, val_acc = sess.run([loss_op, accuracy], feed_dict={X: X_val, Y: y_val})\n",
    "    \n",
    "        print(\"Epoch {}, loss : {:.4f}, val_loss : {:.4f}, acc : {:.3f}, val_acc : {:.3f}\".format(epoch, loss, val_loss, acc, val_acc))\n",
    "    test_acc = sess.run(accuracy, feed_dict={X: X_test, Y: y_test_one_hot})\n",
    "    print(\"test_acc : {:.3f}\".format(test_acc))\n",
    "    \n",
    "    plt.xlabel('epoch')\n",
    "    plt.ylabel('loss')\n",
    "    plt.plot(loss_list, label='loss')\n",
    "    plt.plot(val_loss_list, label='val_loss')\n",
    "    plt.legend()\n",
    "    plt.show()"
   ]
  },
  {
   "cell_type": "code",
   "execution_count": null,
   "id": "2cb04e41-0ffe-4637-a582-37a5d608544a",
   "metadata": {},
   "outputs": [],
   "source": []
  }
 ],
 "metadata": {
  "kernelspec": {
   "display_name": "Python 3 (ipykernel)",
   "language": "python",
   "name": "python3"
  },
  "language_info": {
   "codemirror_mode": {
    "name": "ipython",
    "version": 3
   },
   "file_extension": ".py",
   "mimetype": "text/x-python",
   "name": "python",
   "nbconvert_exporter": "python",
   "pygments_lexer": "ipython3",
   "version": "3.8.10"
  },
  "widgets": {
   "application/vnd.jupyter.widget-state+json": {
    "state": {},
    "version_major": 2,
    "version_minor": 0
   }
  }
 },
 "nbformat": 4,
 "nbformat_minor": 5
}
