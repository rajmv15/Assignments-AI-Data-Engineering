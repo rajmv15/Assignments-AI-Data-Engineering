{
 "cells": [
  {
   "cell_type": "code",
   "execution_count": 1,
   "id": "8f59d94b-0bdc-45cf-8e01-2c376fa2807e",
   "metadata": {},
   "outputs": [],
   "source": [
    "import numpy as np\n",
    "\n",
    "a_ndarray = np.array([[-1, 2, 3], [4, -5, 6], [7, 8, -9]])\n",
    "b_ndarray = np.array([[0, 2, 1], [0, 2, -8], [2, 9, -1]])"
   ]
  },
  {
   "cell_type": "markdown",
   "id": "5321694a-76fa-490d-88e9-fd73bd152139",
   "metadata": {},
   "source": [
    "# Problem 1: Matrix product is calculated manually"
   ]
  },
  {
   "cell_type": "markdown",
   "id": "ed2e023a-27dc-403d-bb88-d49a518c43dd",
   "metadata": {},
   "source": [
    "First lets get to know our MatrixA & MatrixB:"
   ]
  },
  {
   "cell_type": "markdown",
   "id": "5efcf8c9-d8fd-434c-b036-d5198e6e7c37",
   "metadata": {},
   "source": [
    "$$ Matrix A $$\n",
    "\n",
    "$$\n",
    "\\begin{bmatrix}\n",
    "-1 & 2 & 3 \\\\\n",
    "4 & -5 & 6 \\\\\n",
    "7 & 8 & -9\n",
    "\\end{bmatrix}\n",
    "$$\n"
   ]
  },
  {
   "cell_type": "markdown",
   "id": "db362be6-0f8d-4072-b780-e1cea8632db8",
   "metadata": {},
   "source": [
    "$$Matrix B$$\n",
    "\n",
    "$$\n",
    "\\begin{bmatrix}\n",
    "0 & 2 & 1 \\\\\n",
    "0 & 2 & -8 \\\\\n",
    "2 & 9 & -1\n",
    "\\end{bmatrix}\n",
    "$$\n"
   ]
  },
  {
   "cell_type": "markdown",
   "id": "6c82d63e-2ffc-44cf-abbe-71a78ba7d5af",
   "metadata": {},
   "source": [
    "By hand, the multiplicayion of Matrixes follows the following process:"
   ]
  },
  {
   "cell_type": "markdown",
   "id": "3a201e29-be53-4e7e-811d-964ebce67a0d",
   "metadata": {},
   "source": [
    "$$\n",
    "\\begin{bmatrix} -1 & 2 & 3 \\\\ 4 & -5 & 6 \\\\ 7 & 8 & -9 \\end{bmatrix}\n",
    "\\quad \\text{x} \\quad\n",
    "\\begin{bmatrix} 0 & 2 & 1 \\\\ 0 & 2 & -8 \\\\ 2 & 9 & -1 \\end{bmatrix}\n",
    "\\quad \\text{=} \\quad\n",
    "\\begin{bmatrix} (-1)*0 + 2*0 + 3*2 & (-1)*2+2*2+3*9 & (-1)*1 + 2*(-8) + 3*(-1) \\\\ 4*0 + (-5)*0 + 6*2 & 4*2 + (-5)*2 + 6*9 & 4*1 + (-5)*(-8) + 6*(-1) \\\\ 7*0 + 8*0 + (-9)*2 & 7*2 + 8*2 + (-9)*9 &  7*1 + 8*(-8) + (-9)*(-1) \\end{bmatrix}\n",
    "$$\n"
   ]
  },
  {
   "cell_type": "markdown",
   "id": "15b0748a-f344-45e5-8494-15e0a7885a22",
   "metadata": {},
   "source": [
    "_______________________________________________________________________________________________________________________________\n",
    "**The result of that multiplication will be:**\n",
    "\n",
    "$$\n",
    "Matrix A * Matrix B = \\begin{bmatrix}\n",
    "6 & 29 & -20 \\\\\n",
    "12 & 52 & 38 \\\\\n",
    "-18 & -51 & -48\n",
    "\\end{bmatrix}\n",
    "$$\n"
   ]
  },
  {
   "cell_type": "markdown",
   "id": "ad42a98f-ea92-473a-b00b-6717e6393cf8",
   "metadata": {},
   "source": [
    "# Problem 2: Calculation by NumPy function"
   ]
  },
  {
   "cell_type": "code",
   "execution_count": 7,
   "id": "a1af0f34-30d6-46b9-91a7-bf01dd52e2cd",
   "metadata": {},
   "outputs": [
    {
     "data": {
      "text/plain": [
       "array([[  6,  29, -20],\n",
       "       [ 12,  52,  38],\n",
       "       [-18, -51, -48]])"
      ]
     },
     "execution_count": 7,
     "metadata": {},
     "output_type": "execute_result"
    }
   ],
   "source": [
    "result = np.dot(a_ndarray, b_ndarray)\n",
    "result"
   ]
  },
  {
   "cell_type": "markdown",
   "id": "f7e48ea1-b163-4e1b-b2d5-25dcd5146fc5",
   "metadata": {},
   "source": [
    "# Problem 3: Implementation of calculation of a certain element"
   ]
  },
  {
   "cell_type": "code",
   "execution_count": 17,
   "id": "531d4757-284a-42f9-bd48-faa1bd7e3516",
   "metadata": {},
   "outputs": [
    {
     "name": "stdout",
     "output_type": "stream",
     "text": [
      "k=0:  A[0,0] * B[0,0]  =  -1 * 0  =  0\n",
      "k=1:  A[0,1] * B[1,0]  =  2 * 0  =  0\n",
      "k=2:  A[0,2] * B[2,0]  =  3 * 2  =  6\n"
     ]
    }
   ],
   "source": [
    "c0_0 = 0\n",
    "\n",
    "for k in range (3):\n",
    "    A = a_ndarray[0,k]\n",
    "    B = b_ndarray[k,0]\n",
    "        \n",
    "    c0_0 += A*B\n",
    "    print(f\"k={k}:  A[0,{k}] * B[{k},0]  =  {A} * {B}  =  {A * B}\")"
   ]
  },
  {
   "cell_type": "markdown",
   "id": "75e5e3e1-31b2-41cd-afc9-b7955fef5a72",
   "metadata": {},
   "source": [
    "# Problem 4: Creating a function that performs matrix multiplication"
   ]
  },
  {
   "cell_type": "code",
   "execution_count": 29,
   "id": "be37a57b-815f-4193-a065-8bd86f8b1636",
   "metadata": {},
   "outputs": [
    {
     "name": "stdout",
     "output_type": "stream",
     "text": [
      "i,j=0,0:  A[0,0] * B[0,0]  =  -1 * 0  =  0\n",
      "i,j=0,1:  A[0,1] * B[1,0]  =  2 * 0  =  0\n",
      "i,j=0,2:  A[0,2] * B[2,0]  =  3 * 2  =  6\n",
      "\n",
      "i,j=1,0:  A[1,0] * B[0,1]  =  4 * 2  =  8\n",
      "i,j=1,1:  A[1,1] * B[1,1]  =  -5 * 2  =  -10\n",
      "i,j=1,2:  A[1,2] * B[2,1]  =  6 * 9  =  54\n",
      "\n",
      "i,j=2,0:  A[2,0] * B[0,2]  =  7 * 1  =  7\n",
      "i,j=2,1:  A[2,1] * B[1,2]  =  8 * -8  =  -64\n",
      "i,j=2,2:  A[2,2] * B[2,2]  =  -9 * -1  =  9\n",
      "\n"
     ]
    }
   ],
   "source": [
    "c3_3 = 0\n",
    "\n",
    "for i in range (3):\n",
    "    for j in range (3):\n",
    "        A = a_ndarray[i,j]\n",
    "        B = b_ndarray[j,i]\n",
    "        c3_3 += A*B\n",
    "        \n",
    "        print(f\"i,j={i},{j}:  A[{i},{j}] * B[{j},{i}]  =  {A} * {B}  =  {A * B}\")\n",
    "    print(\"\")\n",
    "    "
   ]
  },
  {
   "cell_type": "markdown",
   "id": "16f63fbb-60e9-4786-82cc-609b1639b29a",
   "metadata": {},
   "source": [
    "# Problem 5:"
   ]
  },
  {
   "cell_type": "code",
   "execution_count": 51,
   "id": "cab5a648-418d-4ca8-b8db-33371f95e1f6",
   "metadata": {},
   "outputs": [],
   "source": [
    "def matrix_multiply_safe(matrix_a, matrix_b):\n",
    "    row_a = len(matrix_a)\n",
    "    cols_a = len(matrix_a[0])\n",
    "\n",
    "    row_b = len(matrix_b)\n",
    "    column_b = len(matrix_b[0])\n",
    "    \n",
    "    \n",
    "    if cols_a != row_b:\n",
    "        print(f\"This matrix multiplication cannot be done, because the matrix shape of {matrix_a.shape} is not compatible with the second matrix {matrix_b.shape}\")\n",
    "        return None\n",
    "\n",
    "    result_mtx = 0\n",
    "    for i in range (row_a):\n",
    "        for j in range (row_a):\n",
    "            A = matrix_a[i,j]\n",
    "            B = matrix_b[j,i]\n",
    "            result_mtx += A*B\n",
    "            print(f\"i,j={i},{j}:  A[{i},{j}] * B[{j},{i}]  =  {A} * {B}  =  {A * B}\")\n",
    "    print(\"\")\n",
    "    return result_mtx\n",
    "\n"
   ]
  },
  {
   "cell_type": "code",
   "execution_count": 52,
   "id": "94171acb-4bf3-4486-b53c-dfc66d49782a",
   "metadata": {},
   "outputs": [
    {
     "name": "stdout",
     "output_type": "stream",
     "text": [
      "This matrix multiplication cannot be done, because the matrix shape of (2, 3) is not compatible with the second matrix (2, 3)\n"
     ]
    }
   ],
   "source": [
    "d_ndarray = np.array([[-1, 2, 3], [4, -5, 6]])\n",
    "e_ndarray = np.array([[-9, 8, 7], [6, -5, 4]])\n",
    "\n",
    "check = matrix_multiply_safe(d_ndarray, e_ndarray)\n",
    "check"
   ]
  },
  {
   "cell_type": "code",
   "execution_count": 53,
   "id": "c5d1bf19-6910-46ca-b5c6-9bd37ce39288",
   "metadata": {},
   "outputs": [
    {
     "name": "stdout",
     "output_type": "stream",
     "text": [
      "i,j=0,0:  A[0,0] * B[0,0]  =  -1 * 0  =  0\n",
      "i,j=0,1:  A[0,1] * B[1,0]  =  2 * 0  =  0\n",
      "i,j=0,2:  A[0,2] * B[2,0]  =  3 * 2  =  6\n",
      "i,j=1,0:  A[1,0] * B[0,1]  =  4 * 2  =  8\n",
      "i,j=1,1:  A[1,1] * B[1,1]  =  -5 * 2  =  -10\n",
      "i,j=1,2:  A[1,2] * B[2,1]  =  6 * 9  =  54\n",
      "i,j=2,0:  A[2,0] * B[0,2]  =  7 * 1  =  7\n",
      "i,j=2,1:  A[2,1] * B[1,2]  =  8 * -8  =  -64\n",
      "i,j=2,2:  A[2,2] * B[2,2]  =  -9 * -1  =  9\n",
      "\n"
     ]
    },
    {
     "data": {
      "text/plain": [
       "10"
      ]
     },
     "execution_count": 53,
     "metadata": {},
     "output_type": "execute_result"
    }
   ],
   "source": [
    "check1 = matrix_multiply_safe(a_ndarray, b_ndarray)\n",
    "check1"
   ]
  },
  {
   "cell_type": "markdown",
   "id": "f002e4d7-c160-4960-9c2e-5eb78352f104",
   "metadata": {},
   "source": [
    "# Problem 6: Transposition"
   ]
  },
  {
   "cell_type": "code",
   "execution_count": 54,
   "id": "6f73c547-47da-416b-9675-a6e5f8983d97",
   "metadata": {},
   "outputs": [
    {
     "data": {
      "text/plain": [
       "array([[-1,  2,  3],\n",
       "       [ 4, -5,  6],\n",
       "       [ 7,  8, -9]])"
      ]
     },
     "execution_count": 54,
     "metadata": {},
     "output_type": "execute_result"
    }
   ],
   "source": [
    "a_ndarray"
   ]
  },
  {
   "cell_type": "code",
   "execution_count": 55,
   "id": "54ba9192-6942-4062-b42e-f04aeff6e43f",
   "metadata": {},
   "outputs": [
    {
     "data": {
      "text/plain": [
       "array([[-1,  4,  7],\n",
       "       [ 2, -5,  8],\n",
       "       [ 3,  6, -9]])"
      ]
     },
     "execution_count": 55,
     "metadata": {},
     "output_type": "execute_result"
    }
   ],
   "source": [
    "a_T = a_ndarray.T\n",
    "a_T"
   ]
  }
 ],
 "metadata": {
  "kernelspec": {
   "display_name": "Python 3 (ipykernel)",
   "language": "python",
   "name": "python3"
  },
  "language_info": {
   "codemirror_mode": {
    "name": "ipython",
    "version": 3
   },
   "file_extension": ".py",
   "mimetype": "text/x-python",
   "name": "python",
   "nbconvert_exporter": "python",
   "pygments_lexer": "ipython3",
   "version": "3.8.10"
  }
 },
 "nbformat": 4,
 "nbformat_minor": 5
}
